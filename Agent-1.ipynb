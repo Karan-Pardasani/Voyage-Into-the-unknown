{
 "cells": [
  {
   "cell_type": "code",
   "execution_count": 2,
   "id": "caa21ae9",
   "metadata": {},
   "outputs": [],
   "source": [
    "from sortedcontainers import SortedSet\n",
    "from math import sqrt\n",
    "## https://stackoverflow.com/questions/8875706/heapq-with-custom-compare-predicate/8875823\n",
    "# Priority Queue with custom comparator\n",
    "class MyPriorityQueue(object):\n",
    "    # compare1 is the function that will return f(n)-> sort in ascending order of f(n)\n",
    "    # compare2 is the function that will return g(n)-> sort in ascending order of g(n) if f(n) is same\n",
    "    def __init__(self, current_heuristic, target):\n",
    "        self.current_heuristic = current_heuristic\n",
    "#         self._data = []\n",
    "        self._data = SortedSet()\n",
    "        self.target = target\n",
    "        self.g = dict()\n",
    "        self.h = dict()\n",
    "    def __len__(self):\n",
    "        return len(self._data)\n",
    "    #### It is required to update g(n) and h(n) before pushing the node into the priority queue\n",
    "    def push(self, item):\n",
    "        node = (self.calculate_priority(item), self.get_heuristic(item), item)\n",
    "        self._data.add(node)\n",
    "    def pop(self):\n",
    "        node = self._data.pop(0)[2]\n",
    "        return node\n",
    "    def manhattan_distance(self, x, y): # Manhattan Distance -> heuristic = |x1-x2| + |y1-y2|\n",
    "        return abs(x[0]-y[0])+abs(x[1]-y[1])\n",
    "    def euclidean_distance(self, x, y): # Euclidean Distance -> heuristic = sqrt( (x1-x2)**2 + (y1-y2)**2 )\n",
    "        return sqrt( (x[0]-x[1])**2 + (y[0]-y[1])**2 )\n",
    "    def chebyshev_distance(self, x, y): # Chebyshev Distance -> heuristic = max(|x1-x2|, |y1-y2|)\n",
    "        return max(abs(x[0]-x[1]), abs(y[0]-y[1]))\n",
    "    def get_heuristic(self, x):  # returns the value of heuristic based on the heuristic function\n",
    "        measure = self.current_heuristic\n",
    "        if measure == 'm': # if h is manhattan\n",
    "            self.h[x] = self.manhattan_distance(x, self.target)\n",
    "        elif measure == 'e': # if h is euclidean\n",
    "            self.h[x] = self.euclidean_distance(x, self.target)\n",
    "        elif measure == 'c': # if c is chebyshev\n",
    "            self.h[x] = self.chebyshev_distance(x, self.target)\n",
    "        return self.h[x]\n",
    "    def calculate_priority(self, x): # calculates priority for each cell - distance from cell to target\n",
    "        return self.g[x] + self.get_heuristic(x)\n",
    "\n",
    "class GridWorld:\n",
    "    def __init__(self, grid, start, target, n, m, agent_grid = None ):\n",
    "        self.n = n # denotes the number of rows\n",
    "        self.m = m # denotes the number of columns\n",
    "        self.start = start # denotes the start coordinate of the grid\n",
    "        self.target = target # denotes the target coordinate of the grid\n",
    "        self.trajectory = [] # denotes the trajectory of the agent in the grid\n",
    "        self.grid = grid # denotes the full knowledge of the grid\n",
    "        if agent_grid is None:\n",
    "            self.agent_grid = np.full((n,n),'.')\n",
    "        else:\n",
    "            self.agent_grid = agent_grid # denotes the current knowledge of the grid\n",
    "        self.sum_num_cells_processed = 0\n",
    "        self.sum_bumps = 0\n",
    "        self.sum_a_star = 0\n",
    "        self.plan_time = 0\n",
    "    def a_star(self, source, current_heuristic = 'm'):\n",
    "        dirx = [-1, 1, 0, 0] ## calculates the neighbours of the current node\n",
    "        diry = [0, 0, 1, -1] ## calculates the neighbours of the current node\n",
    "        visited = set() ## contains the nodes that have already been added in priority queue\n",
    "        closed_list = set() ## contains the nodes that have been popped from priority queue\n",
    "        open_list = MyPriorityQueue(current_heuristic, self.target) ## stores the visited nodes and pops it out according to it's priority\n",
    "        planned_path = [] ## Stores the path that the agent has planned according to it's current knowledge\n",
    "        open_list.g[source]=0\n",
    "        open_list.calculate_priority( source)\n",
    "        open_list.push( source) ## This function runs in O(logn)\n",
    "        visited.add(source)#visited[source] = 1\n",
    "        parent = {} ## stores the parent of each node that is visited\n",
    "        parent[source] = None\n",
    "        while(len(open_list)>0):\n",
    "            curr = open_list.pop()\n",
    "            if(curr in closed_list):\n",
    "                continue\n",
    "            self.sum_num_cells_processed = self.sum_num_cells_processed + 1\n",
    "            closed_list.add(curr)\n",
    "            if(curr[0] == self.target[0] and curr[1] == self.target[1]):\n",
    "                break\n",
    "            for i in np.arange(4):\n",
    "                childx = curr[0] + dirx[i]\n",
    "                childy = curr[1] + diry[i]\n",
    "                child = (childx, childy)\n",
    "                if(childx>=0 and childx<m and childy>=0 and childy<n and (child not in closed_list) and self.agent_grid[childx][childy]!='X'):\n",
    "                    if(child not in visited):\n",
    "                        visited.add(child)\n",
    "                        parent[child] = curr\n",
    "                        open_list.g[child] = open_list.g[curr]+1\n",
    "                        open_list.calculate_priority(child)\n",
    "                        open_list.push(child)\n",
    "                    else:\n",
    "                        if open_list.g[curr]+1<open_list.g[child]:\n",
    "                            parent[child] = curr\n",
    "                            open_list._data.discard(child)\n",
    "                            open_list.g[child] = open_list.g[curr]+1\n",
    "                            open_list.calculate_priority(child)\n",
    "                            open_list.push(child)\n",
    "        if(self.target not in visited):\n",
    "            return []\n",
    "        curr = self.target\n",
    "        while(curr != source):\n",
    "            planned_path.append(curr)\n",
    "            curr = parent[curr]\n",
    "        planned_path.append(source)\n",
    "        return planned_path[::-1]\n",
    "    \n",
    "    \n",
    "    def check_planned_path(self, planned_path):\n",
    "        dirx = [-1, 1, 0, 0]\n",
    "        diry = [0, 0, -1, 1]\n",
    "        n = len(planned_path)\n",
    "        traversed_path = []\n",
    "        for i in np.arange(n):\n",
    "            currx = planned_path[i][0]\n",
    "            curry = planned_path[i][1]\n",
    "            if(grid[currx][curry] == 'X'):\n",
    "                self.agent_grid[currx][curry] = self.grid[currx][curry]\n",
    "                self.sum_bumps+=1\n",
    "                break\n",
    "            traversed_path.append((currx,curry))\n",
    "            for i in np.arange(4):\n",
    "                childx = currx + dirx[i]\n",
    "                childy = curry + diry[i]\n",
    "                if(childx>=0 and childx<self.m and childy>=0 and childy<self.n):\n",
    "                    self.agent_grid[childx][childy] = self.grid[childx][childy]\n",
    "        return traversed_path\n",
    "    \n",
    "    ## This is the function that computes the path that repeated a-star traverses\n",
    "    def compute_path(self):\n",
    "        path = []\n",
    "        curr = self.start\n",
    "        while(curr != self.target):\n",
    "            self.sum_a_star+=1\n",
    "            plan_start_time = time.time()\n",
    "            planned_path = self.a_star(curr)\n",
    "            plan_end_time = time.time()\n",
    "            self.plan_time += (plan_start_time - plan_end_time)\n",
    "            if( len(planned_path) == 0 ):\n",
    "                return []\n",
    "            traversed_path = self.check_planned_path(planned_path)\n",
    "            n = len(traversed_path)\n",
    "            path.append(traversed_path)\n",
    "            if(traversed_path[n-1] == self.target):\n",
    "                break\n",
    "            curr = traversed_path[n-1]\n",
    "        return path"
   ]
  },
  {
   "cell_type": "code",
   "execution_count": 8,
   "id": "e6d2725b",
   "metadata": {},
   "outputs": [],
   "source": [
    "import numpy as np\n",
    "p_values = np.linspace(0,0.33,34)"
   ]
  },
  {
   "cell_type": "code",
   "execution_count": 9,
   "id": "1d038875",
   "metadata": {},
   "outputs": [
    {
     "name": "stdout",
     "output_type": "stream",
     "text": [
      "[0.   0.01 0.02 0.03 0.04 0.05 0.06 0.07 0.08 0.09 0.1  0.11 0.12 0.13\n",
      " 0.14 0.15 0.16 0.17 0.18 0.19 0.2  0.21 0.22 0.23 0.24 0.25 0.26 0.27\n",
      " 0.28 0.29 0.3  0.31 0.32 0.33]\n"
     ]
    }
   ],
   "source": [
    "import numpy as np\n",
    "# p_values = np.linspace(0,1,51)\n",
    "print(p_values)\n",
    "result_x = p_values"
   ]
  },
  {
   "cell_type": "code",
   "execution_count": 14,
   "id": "1e14c893",
   "metadata": {},
   "outputs": [
    {
     "name": "stderr",
     "output_type": "stream",
     "text": [
      " 91%|██████████████████████████████████████████████████████████████████████████▊       | 31/34 [11:49<01:08, 22.90s/it]\n"
     ]
    },
    {
     "ename": "KeyboardInterrupt",
     "evalue": "",
     "output_type": "error",
     "traceback": [
      "\u001b[1;31m---------------------------------------------------------------------------\u001b[0m",
      "\u001b[1;31mKeyboardInterrupt\u001b[0m                         Traceback (most recent call last)",
      "\u001b[1;32m<ipython-input-14-32755752d650>\u001b[0m in \u001b[0;36m<module>\u001b[1;34m\u001b[0m\n\u001b[0;32m     58\u001b[0m             \u001b[0mgw\u001b[0m \u001b[1;33m=\u001b[0m \u001b[0mGridWorld\u001b[0m\u001b[1;33m(\u001b[0m\u001b[0mgrid\u001b[0m\u001b[1;33m,\u001b[0m\u001b[1;33m(\u001b[0m\u001b[1;36m0\u001b[0m\u001b[1;33m,\u001b[0m\u001b[1;36m0\u001b[0m\u001b[1;33m)\u001b[0m\u001b[1;33m,\u001b[0m\u001b[1;33m(\u001b[0m\u001b[1;36m100\u001b[0m\u001b[1;33m,\u001b[0m\u001b[1;36m100\u001b[0m\u001b[1;33m)\u001b[0m\u001b[1;33m,\u001b[0m\u001b[1;36m101\u001b[0m\u001b[1;33m,\u001b[0m\u001b[1;36m101\u001b[0m\u001b[1;33m)\u001b[0m\u001b[1;33m\u001b[0m\u001b[1;33m\u001b[0m\u001b[0m\n\u001b[0;32m     59\u001b[0m             \u001b[0moverall_time_start\u001b[0m \u001b[1;33m=\u001b[0m \u001b[0mtime\u001b[0m\u001b[1;33m.\u001b[0m\u001b[0mtime\u001b[0m\u001b[1;33m(\u001b[0m\u001b[1;33m)\u001b[0m\u001b[1;33m\u001b[0m\u001b[1;33m\u001b[0m\u001b[0m\n\u001b[1;32m---> 60\u001b[1;33m             \u001b[0mans\u001b[0m \u001b[1;33m=\u001b[0m \u001b[0mgw\u001b[0m\u001b[1;33m.\u001b[0m\u001b[0mcompute_path\u001b[0m\u001b[1;33m(\u001b[0m\u001b[1;33m)\u001b[0m\u001b[1;33m\u001b[0m\u001b[1;33m\u001b[0m\u001b[0m\n\u001b[0m\u001b[0;32m     61\u001b[0m             \u001b[0moverall_time_end\u001b[0m \u001b[1;33m=\u001b[0m \u001b[0mtime\u001b[0m\u001b[1;33m.\u001b[0m\u001b[0mtime\u001b[0m\u001b[1;33m(\u001b[0m\u001b[1;33m)\u001b[0m\u001b[1;33m\u001b[0m\u001b[1;33m\u001b[0m\u001b[0m\n\u001b[0;32m     62\u001b[0m \u001b[1;33m\u001b[0m\u001b[0m\n",
      "\u001b[1;32m<ipython-input-2-67583bfa8cf9>\u001b[0m in \u001b[0;36mcompute_path\u001b[1;34m(self)\u001b[0m\n\u001b[0;32m    137\u001b[0m             \u001b[1;32mif\u001b[0m\u001b[1;33m(\u001b[0m \u001b[0mlen\u001b[0m\u001b[1;33m(\u001b[0m\u001b[0mplanned_path\u001b[0m\u001b[1;33m)\u001b[0m \u001b[1;33m==\u001b[0m \u001b[1;36m0\u001b[0m \u001b[1;33m)\u001b[0m\u001b[1;33m:\u001b[0m\u001b[1;33m\u001b[0m\u001b[1;33m\u001b[0m\u001b[0m\n\u001b[0;32m    138\u001b[0m                 \u001b[1;32mreturn\u001b[0m \u001b[1;33m[\u001b[0m\u001b[1;33m]\u001b[0m\u001b[1;33m\u001b[0m\u001b[1;33m\u001b[0m\u001b[0m\n\u001b[1;32m--> 139\u001b[1;33m             \u001b[0mtraversed_path\u001b[0m \u001b[1;33m=\u001b[0m \u001b[0mself\u001b[0m\u001b[1;33m.\u001b[0m\u001b[0mcheck_planned_path\u001b[0m\u001b[1;33m(\u001b[0m\u001b[0mplanned_path\u001b[0m\u001b[1;33m)\u001b[0m\u001b[1;33m\u001b[0m\u001b[1;33m\u001b[0m\u001b[0m\n\u001b[0m\u001b[0;32m    140\u001b[0m             \u001b[0mn\u001b[0m \u001b[1;33m=\u001b[0m \u001b[0mlen\u001b[0m\u001b[1;33m(\u001b[0m\u001b[0mtraversed_path\u001b[0m\u001b[1;33m)\u001b[0m\u001b[1;33m\u001b[0m\u001b[1;33m\u001b[0m\u001b[0m\n\u001b[0;32m    141\u001b[0m             \u001b[0mpath\u001b[0m\u001b[1;33m.\u001b[0m\u001b[0mappend\u001b[0m\u001b[1;33m(\u001b[0m\u001b[0mtraversed_path\u001b[0m\u001b[1;33m)\u001b[0m\u001b[1;33m\u001b[0m\u001b[1;33m\u001b[0m\u001b[0m\n",
      "\u001b[1;32m<ipython-input-2-67583bfa8cf9>\u001b[0m in \u001b[0;36mcheck_planned_path\u001b[1;34m(self, planned_path)\u001b[0m\n\u001b[0;32m    118\u001b[0m                 \u001b[1;32mbreak\u001b[0m\u001b[1;33m\u001b[0m\u001b[1;33m\u001b[0m\u001b[0m\n\u001b[0;32m    119\u001b[0m             \u001b[0mtraversed_path\u001b[0m\u001b[1;33m.\u001b[0m\u001b[0mappend\u001b[0m\u001b[1;33m(\u001b[0m\u001b[1;33m(\u001b[0m\u001b[0mcurrx\u001b[0m\u001b[1;33m,\u001b[0m\u001b[0mcurry\u001b[0m\u001b[1;33m)\u001b[0m\u001b[1;33m)\u001b[0m\u001b[1;33m\u001b[0m\u001b[1;33m\u001b[0m\u001b[0m\n\u001b[1;32m--> 120\u001b[1;33m             \u001b[1;32mfor\u001b[0m \u001b[0mi\u001b[0m \u001b[1;32min\u001b[0m \u001b[0mnp\u001b[0m\u001b[1;33m.\u001b[0m\u001b[0marange\u001b[0m\u001b[1;33m(\u001b[0m\u001b[1;36m4\u001b[0m\u001b[1;33m)\u001b[0m\u001b[1;33m:\u001b[0m\u001b[1;33m\u001b[0m\u001b[1;33m\u001b[0m\u001b[0m\n\u001b[0m\u001b[0;32m    121\u001b[0m                 \u001b[0mchildx\u001b[0m \u001b[1;33m=\u001b[0m \u001b[0mcurrx\u001b[0m \u001b[1;33m+\u001b[0m \u001b[0mdirx\u001b[0m\u001b[1;33m[\u001b[0m\u001b[0mi\u001b[0m\u001b[1;33m]\u001b[0m\u001b[1;33m\u001b[0m\u001b[1;33m\u001b[0m\u001b[0m\n\u001b[0;32m    122\u001b[0m                 \u001b[0mchildy\u001b[0m \u001b[1;33m=\u001b[0m \u001b[0mcurry\u001b[0m \u001b[1;33m+\u001b[0m \u001b[0mdiry\u001b[0m\u001b[1;33m[\u001b[0m\u001b[0mi\u001b[0m\u001b[1;33m]\u001b[0m\u001b[1;33m\u001b[0m\u001b[1;33m\u001b[0m\u001b[0m\n",
      "\u001b[1;31mKeyboardInterrupt\u001b[0m: "
     ]
    }
   ],
   "source": [
    "### Plots --> avg len of trajectory, avg number of cells processed, avg num of bumps\n",
    "import time\n",
    "def calculate_path_length(ans_compute_path):\n",
    "    ans = 0\n",
    "    for x in ans_compute_path:\n",
    "        ans = ans + len(x)-1\n",
    "    return ans + 1\n",
    "from tqdm import tqdm\n",
    "cnt = 0\n",
    "result_y = []\n",
    "p_values = np.round(p_values,2)\n",
    "result_x = p_values[1:50]\n",
    "avg_num_cells_processed = []\n",
    "avg_bumps = []\n",
    "avg_astar = []\n",
    "avg_overall_time = []\n",
    "avg_traj_len = []\n",
    "avg_path_len = []\n",
    "avg_plan_time = []\n",
    "def update_final_discovered_grid(final_discovered_grid, rep_a_trajectory, grid):\n",
    "    m = len(final_discovered_grid)\n",
    "    n = len(final_discovered_grid[0])\n",
    "    dirx = [-1, 1, 0, 0]\n",
    "    diry = [0, 0, -1, 1]\n",
    "    for x in rep_a_trajectory:\n",
    "        for i in np.arange(len(x)):\n",
    "            pos = x[i]\n",
    "            final_discovered_grid[pos[0]][pos[1]] = grid[pos[0]][pos[1]]\n",
    "            for j in np.arange(4):\n",
    "                childx = pos[0] + dirx[j]\n",
    "                childy = pos[1] + diry[j]\n",
    "                if(childx>=0 and childx<m and childy>=0 and childy<n):\n",
    "                    final_discovered_grid[childx][childy] = grid[childx][childy]\n",
    "    return final_discovered_grid\n",
    "for p in tqdm(p_values):\n",
    "    if p == 0 or  p== 1:\n",
    "        continue\n",
    "    sum_num_cells_processed = 0\n",
    "    sum_bumps = 0\n",
    "    sum_astar = 0\n",
    "    cnt = 0\n",
    "    sum_overall_time = 0\n",
    "    sum_plan_time = 0\n",
    "    sum_traj_len = 0\n",
    "    sum_path_len = 0\n",
    "    with open('C:/Users/karan/Desktop/Rutgers Courses/CS520/Project2/Grid_data_Proj_2/'+'p'+str(p)+'.txt') as f:\n",
    "        grid_data = f.readlines()\n",
    "        freq = 0\n",
    "        for s in grid_data:\n",
    "            i = 0\n",
    "            grid = [] ## matrix that contains full knowledge of gridworld\n",
    "            m = 101\n",
    "            n = 101\n",
    "            while(i<m*n):\n",
    "                grid.append(list(s[i:i+n]))\n",
    "                i = i + n\n",
    "            grid = np.array(grid)\n",
    "            gw = GridWorld(grid,(0,0),(100,100),101,101)\n",
    "            overall_time_start = time.time()\n",
    "            ans = gw.compute_path()\n",
    "            overall_time_end = time.time()\n",
    "            \n",
    "            final_discovered_grid = np.full((101,101),'X')\n",
    "            final_discovered_grid = update_final_discovered_grid(final_discovered_grid, ans, grid)\n",
    "            gw_final_discovered = GridWorld(final_discovered_grid, (0,0), (100,100), 101, 101, agent_grid = final_discovered_grid)\n",
    "            shortest_path_final_discovered = gw_final_discovered.a_star((0,0),'m') #Length2\n",
    "            sum_path_len = sum_path_len + len(shortest_path_final_discovered)\n",
    "            \n",
    "            sum_num_cells_processed += gw.sum_num_cells_processed\n",
    "            sum_bumps += gw.sum_bumps\n",
    "            sum_astar += gw.sum_a_star\n",
    "            sum_overall_time += (overall_time_end - overall_time_start)\n",
    "            sum_plan_time += gw.plan_time\n",
    "            sum_traj_len += calculate_path_length(ans)\n",
    "            cnt+=1\n",
    "            if(cnt == 250):\n",
    "                break\n",
    "        avg_num_cells_processed.append(sum_num_cells_processed/250)\n",
    "        avg_bumps.append(sum_bumps/250)\n",
    "        avg_astar.append(sum_astar/250)\n",
    "        avg_overall_time.append(sum_overall_time/250)\n",
    "        avg_plan_time.append(sum_plan_time/250)\n",
    "        avg_traj_len.append(sum_traj_len/250)\n",
    "        avg_path_len.append(sum_path_len/250)"
   ]
  },
  {
   "cell_type": "code",
   "execution_count": 39,
   "id": "52659ac7",
   "metadata": {},
   "outputs": [
    {
     "data": {
      "text/plain": [
       "[<matplotlib.lines.Line2D at 0x29aca89daf0>]"
      ]
     },
     "execution_count": 39,
     "metadata": {},
     "output_type": "execute_result"
    },
    {
     "data": {
      "image/png": "[encoded data removed]",
      "text/plain": [
       "<Figure size 432x288 with 1 Axes>"
      ]
     },
     "metadata": {
      "needs_background": "light"
     },
     "output_type": "display_data"
    }
   ],
   "source": [
    "import matplotlib.pyplot as plt\n",
    "plt.plot(result_x[:],avg_bumps)"
   ]
  },
  {
   "cell_type": "code",
   "execution_count": null,
   "id": "d14df39b",
   "metadata": {},
   "outputs": [],
   "source": []
  },
  {
   "cell_type": "code",
   "execution_count": 34,
   "id": "1bde35d5",
   "metadata": {},
   "outputs": [],
   "source": [
    "# import pickle\n",
    "# with open('agent_1_avg_bumps.pkl', 'wb') as f:\n",
    "#     pickle.dump(avg_bumps, f)"
   ]
  },
  {
   "cell_type": "code",
   "execution_count": 2,
   "id": "54b0c6c8",
   "metadata": {},
   "outputs": [],
   "source": [
    "import pickle\n",
    "with open('agent_2_avg_bumps.pkl', 'rb') as f:\n",
    "    agent_2_avg_bumps = pickle.load(f)"
   ]
  },
  {
   "cell_type": "code",
   "execution_count": 3,
   "id": "10c07b05",
   "metadata": {},
   "outputs": [
    {
     "data": {
      "text/plain": [
       "[1.992,\n",
       " 4.292,\n",
       " 6.248,\n",
       " 8.676,\n",
       " 10.984,\n",
       " 13.624,\n",
       " 16.04,\n",
       " 18.568,\n",
       " 21.416,\n",
       " 24.376,\n",
       " 27.98,\n",
       " 31.704,\n",
       " 34.744,\n",
       " 38.712,\n",
       " 42.48,\n",
       " 46.876,\n",
       " 49.88,\n",
       " 56.076,\n",
       " 58.552,\n",
       " 65.38,\n",
       " 71.392,\n",
       " 74.76,\n",
       " 83.004,\n",
       " 91.536,\n",
       " 95.932,\n",
       " 104.652,\n",
       " 111.208,\n",
       " 121.808,\n",
       " 131.672,\n",
       " 147.108]"
      ]
     },
     "execution_count": 3,
     "metadata": {},
     "output_type": "execute_result"
    }
   ],
   "source": [
    "agent_2_avg_bumps"
   ]
  },
  {
   "cell_type": "code",
   "execution_count": null,
   "id": "067434af",
   "metadata": {},
   "outputs": [],
   "source": [
    "x"
   ]
  }
 ],
 "metadata": {
  "kernelspec": {
   "display_name": "Python 3",
   "language": "python",
   "name": "python3"
  },
  "language_info": {
   "codemirror_mode": {
    "name": "ipython",
    "version": 3
   },
   "file_extension": ".py",
   "mimetype": "text/x-python",
   "name": "python",
   "nbconvert_exporter": "python",
   "pygments_lexer": "ipython3",
   "version": "3.8.8"
  }
 },
 "nbformat": 4,
 "nbformat_minor": 5
}

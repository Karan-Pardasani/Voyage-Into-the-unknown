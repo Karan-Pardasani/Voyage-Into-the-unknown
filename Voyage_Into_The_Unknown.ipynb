{
 "cells": [
  {
   "cell_type": "code",
   "execution_count": null,
   "id": "60d84a10",
   "metadata": {},
   "outputs": [],
   "source": []
  },
  {
   "cell_type": "code",
   "execution_count": 1,
   "id": "8fe45bcd",
   "metadata": {},
   "outputs": [],
   "source": [
    "# x = []\n",
    "# heapq.heappush(x, (3,4,5))\n",
    "# heapq.heappush(x, (2,4,5))\n",
    "# heapq.heappush(x, (2,3,5))\n",
    "# print(x)\n",
    "# print(heapq.heappop(x))\n",
    "# print(heapq.heappop(x))\n",
    "# print(x)"
   ]
  },
  {
   "cell_type": "code",
   "execution_count": 2,
   "id": "a197dee2",
   "metadata": {},
   "outputs": [],
   "source": [
    "import numpy as np\n",
    "import pandas as pd"
   ]
  },
  {
   "cell_type": "markdown",
   "id": "b017f332",
   "metadata": {},
   "source": [
    "## Question-1 Greedy A-star algorithm"
   ]
  },
  {
   "cell_type": "markdown",
   "id": "1a71c07c",
   "metadata": {},
   "source": [
    "Assumptions:\n",
    "1. All cells are unblocked, until it observes them to be blocked.\n",
    "2. All path planning is done with the current state of knowledge of the gridworld under this freespace assumption\n",
    "\n",
    "Data Structures:\n",
    "1. m1 (2D array): represents the full knowledge of the gridworld. Contains all blocked and unblocked cells present.\n",
    "2. m2 (2D array): represents the current knowledge of the agent. Gets updated according to the field of view of the m1 array\n",
    "3. pq (Priority Queue): will store the visited cells and will return them in increasing order of priority\n",
    "4. dirx[], diry[] : will store values to calculate the neighbouring nodes in N,S,E,W direction.\n",
    "5. visited (dictionary) : will store the status of visited and non-visited for each vertices in the gridworld.\n",
    "\n",
    "Pseudocode:\n",
    "1. Start with S.\n",
    "2. Plan a path from S to G using the Manhattan distance heuristic.\n",
    "3. Start traversing on the path until a) you reach the goal or b) you get blocked in that path.\n",
    "4. If you reach the goal, terminate the program and find the path.\n",
    "5. If you see a block, then start from step 1 with S as the most recent unblocked cell"
   ]
  },
  {
   "cell_type": "markdown",
   "id": "5158d7ca",
   "metadata": {},
   "source": [
    "Input:\n",
    "1. n is the dimension of gridworld (nxn).\n",
    "2. s is the string of length nxn that denotes the state of each cell in the grid world.\n",
    "3. If s[i] is '.', then the cell is unblocked; If s[i] is 'x', then the cell is blocked; \n",
    "4. If s[i] is 'P', then the cell is in the path that the agent follows.\n",
    "5. If s[i] is 'S', then the cell is the starting position.\n",
    "6. If s[i] is 'G', then the cell is the goal position."
   ]
  },
  {
   "cell_type": "code",
   "execution_count": null,
   "id": "adba5ef3",
   "metadata": {},
   "outputs": [],
   "source": []
  },
  {
   "cell_type": "code",
   "execution_count": null,
   "id": "498c48de",
   "metadata": {},
   "outputs": [],
   "source": [
    "m = int(input(\"Give number of rows: \")) ## denotes the dimension of mxn matrix\n",
    "n = int(input(\"Give number of columns: \")) ## denotes the dimension of mxn matrix\n",
    "sx = int(input(\"Give the x coordinate of start cell: \")) ## denotes the x-coordinate of the start cell\n",
    "sy = int(input(\"Give the y coordinate of start cell: \")) ## denotes the y-oordinate of the start cell\n",
    "tx = int(input(\"Give the x coordinate of target cell: \")) ## denotes the x-coordinate of the end cell\n",
    "ty = int(input(\"Give the y coordinate of target cell: \")) ## denotes the y-coordinate of the end cell\n",
    "s = input(\"Give the string for the grid: \") ## Denotes the actual gri of the mxn matrix\n",
    "i = 0\n",
    "grid = [] ## matrix that contains full knowledge of gridworld\n",
    "while(i<m*n):\n",
    "    grid.append(list(s[i:i+n]))\n",
    "    i = i + n\n",
    "grid = np.array(grid)\n",
    "# agent_grid = np.full((m,n),'.') ## agent_grid denotes the current knowledge of the agent\n",
    "print(grid)\n",
    "# print(agent_grid)"
   ]
  },
  {
   "cell_type": "code",
   "execution_count": null,
   "id": "b374ac75",
   "metadata": {},
   "outputs": [],
   "source": [
    "# def manhattan_distance(x,y):\n",
    "#     return abs(x[0]-y[0])+abs(x[1]-y[1])"
   ]
  },
  {
   "cell_type": "code",
   "execution_count": null,
   "id": "35168128",
   "metadata": {},
   "outputs": [],
   "source": [
    "# def get_priority(x):\n",
    "#     return manhattan_distance(x,goal)"
   ]
  },
  {
   "cell_type": "code",
   "execution_count": null,
   "id": "d6707a24",
   "metadata": {},
   "outputs": [],
   "source": [
    "# from queue import PriorityQueue\n",
    "# dirx = [-1, 1, 0, 0]\n",
    "# diry = [0, 0, 1, -1]\n",
    "# start = (get_priority(start), 0, 0)\n",
    "# target = (n-1, n-1)"
   ]
  },
  {
   "cell_type": "code",
   "execution_count": null,
   "id": "3c924547",
   "metadata": {},
   "outputs": [],
   "source": [
    "# dirx = [-1, 1, 0, 0]\n",
    "# diry = [0, 0, 1, -1]\n",
    "# def a_star(source):\n",
    "#     visited = np.zeros((n,n),dtype = np.int8)\n",
    "#     curr = (get_priority(source), source[0], source[1])\n",
    "#     PriorityQueue Open = PriorityQueue();\n",
    "#     planned_path = []\n",
    "#     Open.put(curr)\n",
    "#     visited[curr[1]][curr[2]] = 1;\n",
    "#     while(!Open.empty()):\n",
    "#         curr = Open.get()\n",
    "#         planned_path.append((curr[1],curr[2]))\n",
    "#         if( curr[1] == target[0] and curr[2] == target[1]):\n",
    "#             return planned_path\n",
    "#         for i in np.arange(4):\n",
    "#             childx = curr[1] + dirx[i]\n",
    "#             childy = curr[2] + diry[i]\n",
    "#             if(childx>=0 and childx<n and childy>=0 and childy<n and !visited[childx][childy] and agent_grid[childx][childy]!='X'):\n",
    "#                 visited[childx][childy] = 1\n",
    "#                 child = (get_priority(child),childx,childy)\n",
    "#                 Open.put(child)\n",
    "    "
   ]
  },
  {
   "cell_type": "markdown",
   "id": "96b3f0a7",
   "metadata": {},
   "source": [
    "# Data Structures for this project:\n",
    "\n",
    "Sorted Set:\n",
    "http://www.grantjenks.com/docs/sortedcontainers/sortedset.html"
   ]
  },
  {
   "cell_type": "code",
   "execution_count": null,
   "id": "f25e12fe",
   "metadata": {},
   "outputs": [],
   "source": [
    "# x = {(0,0):0,(0,1):10,(0,2):9}"
   ]
  },
  {
   "cell_type": "code",
   "execution_count": null,
   "id": "c38d1bf1",
   "metadata": {},
   "outputs": [],
   "source": [
    "# from sortedcontainers import SortedSet\n",
    "# def func(t):\n",
    "#     return x[t]\n",
    "# y =SortedSet([(0,0),(0,1),(0,2)], key = func)\n",
    "# print(y)\n"
   ]
  },
  {
   "cell_type": "code",
   "execution_count": null,
   "id": "84c1b339",
   "metadata": {},
   "outputs": [],
   "source": [
    "# from sortedcontainers import SortedSet\n",
    "# tt = SortedSet(['a','b','c','d','e'])\n",
    "# tt\n",
    "# tt.pop(0)"
   ]
  },
  {
   "cell_type": "code",
   "execution_count": 3,
   "id": "f8ef36eb",
   "metadata": {},
   "outputs": [],
   "source": [
    "from sortedcontainers import SortedSet\n",
    "from math import sqrt\n",
    "## https://stackoverflow.com/questions/8875706/heapq-with-custom-compare-predicate/8875823\n",
    "# Priority Queue with custom comparator\n",
    "class MyPriorityQueue(object):\n",
    "    # compare1 is the function that will return f(n)-> sort in ascending order of f(n)\n",
    "    # compare2 is the function that will return g(n)-> sort in ascending order of g(n) if f(n) is same\n",
    "    def __init__(self, current_heuristic, target):\n",
    "        self.current_heuristic = current_heuristic\n",
    "#         self._data = []\n",
    "        self._data = SortedSet()\n",
    "        self.target = target\n",
    "        self.g = dict()\n",
    "        self.h = dict()\n",
    "    def __len__(self):\n",
    "        return len(self._data)\n",
    "    #### It is required to update g(n) and h(n) before pushing the node into the priority queue\n",
    "    def push(self, item):\n",
    "        node = (self.calculate_priority(item), self.get_heuristic(item), item)\n",
    "        self._data.add(node)\n",
    "#         heapq.heappush(self._data, (self.calculate_priority(item), self.get_heuristic(item), item))\n",
    "    def pop(self):\n",
    "        node = self._data.pop(0)[2]\n",
    "        return node\n",
    "#         return heapq.heappop(self._data)[2]\n",
    "    def manhattan_distance(self, x, y): # Manhattan Distance -> heuristic = |x1-x2| + |y1-y2|\n",
    "        return abs(x[0]-y[0])+abs(x[1]-y[1])\n",
    "    def euclidean_distance(self, x, y): # Euclidean Distance -> heuristic = sqrt( (x1-x2)**2 + (y1-y2)**2 )\n",
    "        return sqrt( (x[0]-x[1])**2 + (y[0]-y[1])**2 )\n",
    "    def chebyshev_distance(self, x, y): # Chebyshev Distance -> heuristic = max(|x1-x2|, |y1-y2|)\n",
    "        return max(abs(x[0]-x[1]), abs(y[0]-y[1]))\n",
    "    def get_heuristic(self, x):  # returns the value of heuristic based on the heuristic function\n",
    "        measure = self.current_heuristic\n",
    "        if measure == 'm': # if h is manhattan\n",
    "            self.h[x] = self.manhattan_distance(x, self.target)\n",
    "        elif measure == 'e': # if h is euclidean\n",
    "            self.h[x] = self.euclidean_distance(x, self.target)\n",
    "        elif measure == 'c': # if c is chebyshev\n",
    "            self.h[x] = self.chebyshev_distance(x, self.target)\n",
    "        return self.h[x]\n",
    "    def calculate_priority(self, x): # calculates priority for each cell - distance from cell to target\n",
    "#         print(\"*******x: \",x)\n",
    "#         print(\"self.g: \",self.g)\n",
    "#         print(\"g: \",self.g[x])\n",
    "        return self.g[x] + self.get_heuristic(x)\n",
    "\n",
    "class GridWorld:\n",
    "    def __init__(self, grid, start, target, n, m, agent_grid = None ):\n",
    "        self.n = n # denotes the number of rows\n",
    "        self.m = m # denotes the number of columns\n",
    "        self.start = start # denotes the start coordinate of the grid\n",
    "        self.target = target # denotes the target coordinate of the grid\n",
    "        self.trajectory = [] # denotes the trajectory of the agent in the grid\n",
    "        self.grid = grid # denotes the full knowledge of the grid\n",
    "        if agent_grid is None:\n",
    "            self.agent_grid = np.full((n,n),'.')\n",
    "        else:\n",
    "            self.agent_grid = agent_grid\n",
    "#         self.agent_grid =  (agent_grid or np.full((n,n),'.')) # denotes the current knowledge of the grid\n",
    "        self.avg_num_cells_processed = 0\n",
    "#         self.g = dict() # denotes the g value -> distance from source to current node\n",
    "#         self.h = dict() # denotes the h value -> estimation of distance from current node to the target\n",
    "#     def manhattan_distance(self, x, y): # Manhattan Distance -> heuristic = |x1-x2| + |y1-y2|\n",
    "#         return abs(x[0]-y[0])+abs(x[1]-y[1])\n",
    "#     def euclidean_distance(self, x, y): # Euclidean Distance -> heuristic = sqrt( (x1-x2)**2 + (y1-y2)**2 )\n",
    "#         return sqrt( (x[0]-x[1])**2 + (y[0]-y[1])**2 )\n",
    "#     def chebyshev_distance(self, x, y): # Chebyshev Distance -> heuristic = max(|x1-x2|, |y1-y2|)\n",
    "#         return max(abs([0]-x[1]), abs(y[0]-y[1]))\n",
    "#     def get_heuristic(self, x, measure):  # returns the value of heuristic based on the heuristic function\n",
    "#         if measure == 'm': # if h is manhattan\n",
    "#             self.h[x] = sel.manhattan(self, x, y)\n",
    "#         elif measure == 'e': # if h is euclidean\n",
    "#             self.h[x] = self.eucliden_distance(self, x, y)\n",
    "#         elif measure == 'c': # if c is chebyshev\n",
    "#             self.h[x] = self.chebyshev_distance(self, x, y)\n",
    "#         return self.h[x]\n",
    "#     def calculate_priority(self, x, h, g): # calculates priority for each cell - distance from cell to target\n",
    "# #         print(\"g: \",self.g)\n",
    "# #         print(\"x: \",x)\n",
    "# #         print(\"self.g[x]: \",self.g[x])\n",
    "#         return g + self.get_heuristic(self, x, self.target, h)\n",
    "    def a_star(self, source, current_heuristic = 'm'):\n",
    "        dirx = [-1, 1, 0, 0] ## calculates the neighbours of the current node\n",
    "        diry = [0, 0, 1, -1] ## calculates the neighbours of the current node\n",
    "#         print(\"source: \",source)\n",
    "        visited = set() ## contains the nodes that have already been added in priority queue\n",
    "        closed_list = set() ## contains the nodes that have been popped from priority queue\n",
    "        #self.g = dict()\n",
    "        open_list = MyPriorityQueue(current_heuristic, self.target) ## stores the visited nodes and pops it out according to it's priority\n",
    "        planned_path = [] ## Stores the path that the agent has planned according to it's current knowledge\n",
    "        open_list.g[source]=0\n",
    "        open_list.calculate_priority( source)\n",
    "        open_list.push( source) ## This function runs in O(logn)\n",
    "        visited.add(source)#visited[source] = 1\n",
    "        parent = {} ## stores the parent of each node that is visited\n",
    "        parent[source] = None\n",
    "        while(len(open_list)>0):\n",
    "            curr = open_list.pop()\n",
    "            if(curr in closed_list):\n",
    "                continue\n",
    "            self.avg_num_cells_processed = self.avg_num_cells_processed + 1\n",
    "            closed_list.add(curr)\n",
    "            if(curr[0] == self.target[0] and curr[1] == self.target[1]):\n",
    "                break\n",
    "            for i in np.arange(4):\n",
    "                childx = curr[0] + dirx[i]\n",
    "                childy = curr[1] + diry[i]\n",
    "                child = (childx, childy)\n",
    "                if(childx>=0 and childx<m and childy>=0 and childy<n and (child not in closed_list) and self.agent_grid[childx][childy]!='X'):\n",
    "                    if(child not in visited):\n",
    "                        visited.add(child)\n",
    "                        parent[child] = curr\n",
    "                        open_list.g[child] = open_list.g[curr]+1\n",
    "                        open_list.calculate_priority(child)\n",
    "                        open_list.push(child) #heapq.heappush(open_list, child)\n",
    "                    else:\n",
    "                        if open_list.g[curr]+1<open_list.g[child]:\n",
    "                            parent[child] = curr\n",
    "                            open_list._data.discard(child)\n",
    "                            open_list.g[child] = open_list.g[curr]+1\n",
    "                            open_list.calculate_priority(child)\n",
    "                            open_list.push(child)\n",
    "#                             temp = MyPriorityQueue(current_heuristic, self.target)\n",
    "#                             tempcurr = open_list.pop()\n",
    "#                             while( len(open_list)>0 and tempcurr != child):\n",
    "#                                 temp.g[tempcurr] = open_list.g[tempcurr]\n",
    "#                                 temp.calculate_priority(tempcurr)\n",
    "#                                 temp.push(tempcurr)\n",
    "#                                 tempcurr = open_list.pop()\n",
    "#                             open_list.g[child] = open_list.g[curr]+1\n",
    "#                             open_list.calculate_priority(child)\n",
    "#                             open_list.push(child)\n",
    "#                             while( len(temp)>0 ):\n",
    "#                                 tempcurr = temp.pop()\n",
    "#                                 open_list.push(tempcurr)\n",
    "        if(self.target not in visited):\n",
    "            return []\n",
    "        curr = self.target\n",
    "#         print(\"$$$$$$$source: \",source)\n",
    "#         print(\"agent_grid: \\n\",self.agent_grid)\n",
    "#         print(\"parent: \",parent)\n",
    "        while(curr != source):\n",
    "#             print(\"curr: \",curr,\"parent: \",parent[curr])\n",
    "            planned_path.append(curr)\n",
    "            curr = parent[curr]\n",
    "        planned_path.append(source)\n",
    "        return planned_path[::-1]\n",
    "    \n",
    "    \n",
    "    def check_planned_path(self, planned_path):\n",
    "        dirx = [-1, 1, 0, 0]\n",
    "        diry = [0, 0, -1, 1]\n",
    "        n = len(planned_path)\n",
    "        traversed_path = []\n",
    "        for i in np.arange(n):\n",
    "            currx = planned_path[i][0]\n",
    "            curry = planned_path[i][1]\n",
    "            if(grid[currx][curry] == 'X'):\n",
    "                break\n",
    "            traversed_path.append((currx,curry))\n",
    "            for i in np.arange(4):\n",
    "                childx = currx + dirx[i]\n",
    "                childy = curry + diry[i]\n",
    "                if(childx>=0 and childx<self.m and childy>=0 and childy<self.n):\n",
    "                    self.agent_grid[childx][childy] = self.grid[childx][childy]\n",
    "        return traversed_path\n",
    "    \n",
    "    ## This is the function that computes the path that repeated a-star traverses\n",
    "    def compute_path(self):\n",
    "        path = []\n",
    "        curr = self.start\n",
    "        while(curr != self.target):\n",
    "            planned_path = self.a_star(curr)\n",
    "            if( len(planned_path) == 0 ):\n",
    "                return []\n",
    "            traversed_path = self.check_planned_path(planned_path)\n",
    "            n = len(traversed_path)\n",
    "            path.append(traversed_path)\n",
    "            if(traversed_path[n-1] == self.target):\n",
    "                break\n",
    "            curr = traversed_path[n-1]\n",
    "        # self.combine_path(path)\n",
    "        return path\n",
    "                        \n",
    "                    \n",
    "        \n",
    "        "
   ]
  },
  {
   "cell_type": "code",
   "execution_count": 81,
   "id": "0903fb03",
   "metadata": {},
   "outputs": [
    {
     "data": {
      "text/plain": [
       "array([['.', '.', '.', ..., 'X', '.', 'X'],\n",
       "       ['X', '.', '.', ..., '.', '.', 'X'],\n",
       "       ['.', '.', 'X', ..., '.', '.', '.'],\n",
       "       ...,\n",
       "       ['.', 'X', '.', ..., '.', '.', '.'],\n",
       "       ['X', '.', '.', ..., 'X', 'X', '.'],\n",
       "       ['X', 'X', 'X', ..., '.', '.', '.']], dtype='<U1')"
      ]
     },
     "execution_count": 81,
     "metadata": {},
     "output_type": "execute_result"
    }
   ],
   "source": [
    "grid"
   ]
  },
  {
   "cell_type": "code",
   "execution_count": null,
   "id": "89e4bd0a",
   "metadata": {},
   "outputs": [],
   "source": []
  },
  {
   "cell_type": "code",
   "execution_count": 8,
   "id": "6047c914",
   "metadata": {},
   "outputs": [
    {
     "ename": "NameError",
     "evalue": "name 'sx' is not defined",
     "output_type": "error",
     "traceback": [
      "\u001b[1;31m---------------------------------------------------------------------------\u001b[0m",
      "\u001b[1;31mNameError\u001b[0m                                 Traceback (most recent call last)",
      "\u001b[1;32m<ipython-input-8-7be52a6556e0>\u001b[0m in \u001b[0;36m<module>\u001b[1;34m\u001b[0m\n\u001b[1;32m----> 1\u001b[1;33m \u001b[0mstart\u001b[0m \u001b[1;33m=\u001b[0m \u001b[1;33m(\u001b[0m\u001b[0msx\u001b[0m\u001b[1;33m,\u001b[0m \u001b[0msy\u001b[0m\u001b[1;33m)\u001b[0m\u001b[1;33m\u001b[0m\u001b[1;33m\u001b[0m\u001b[0m\n\u001b[0m\u001b[0;32m      2\u001b[0m \u001b[0mtarget\u001b[0m \u001b[1;33m=\u001b[0m \u001b[1;33m(\u001b[0m\u001b[0mtx\u001b[0m\u001b[1;33m,\u001b[0m \u001b[0mty\u001b[0m\u001b[1;33m)\u001b[0m\u001b[1;33m\u001b[0m\u001b[1;33m\u001b[0m\u001b[0m\n\u001b[0;32m      3\u001b[0m \u001b[0mgw\u001b[0m \u001b[1;33m=\u001b[0m \u001b[0mGridWorld\u001b[0m\u001b[1;33m(\u001b[0m\u001b[0mgrid\u001b[0m\u001b[1;33m,\u001b[0m \u001b[0mstart\u001b[0m\u001b[1;33m,\u001b[0m \u001b[0mtarget\u001b[0m\u001b[1;33m,\u001b[0m \u001b[0mn\u001b[0m\u001b[1;33m,\u001b[0m \u001b[0mm\u001b[0m\u001b[1;33m)\u001b[0m\u001b[1;33m\u001b[0m\u001b[1;33m\u001b[0m\u001b[0m\n\u001b[0;32m      4\u001b[0m \u001b[0mans\u001b[0m \u001b[1;33m=\u001b[0m \u001b[0mgw\u001b[0m\u001b[1;33m.\u001b[0m\u001b[0mcompute_path\u001b[0m\u001b[1;33m(\u001b[0m\u001b[1;33m)\u001b[0m\u001b[1;33m\u001b[0m\u001b[1;33m\u001b[0m\u001b[0m\n\u001b[0;32m      5\u001b[0m \u001b[0mprint\u001b[0m\u001b[1;33m(\u001b[0m\u001b[0mans\u001b[0m\u001b[1;33m)\u001b[0m\u001b[1;33m\u001b[0m\u001b[1;33m\u001b[0m\u001b[0m\n",
      "\u001b[1;31mNameError\u001b[0m: name 'sx' is not defined"
     ]
    }
   ],
   "source": [
    "start = (sx, sy)\n",
    "target = (tx, ty)\n",
    "gw = GridWorld(grid, start, target, n, m)\n",
    "ans = gw.compute_path()\n",
    "print(ans)"
   ]
  },
  {
   "cell_type": "code",
   "execution_count": 9,
   "id": "ba90eaed",
   "metadata": {},
   "outputs": [
    {
     "data": {
      "text/plain": [
       "array([['.', '.', '.', ..., '.', '.', '.'],\n",
       "       ['.', '.', '.', ..., '.', '.', '.'],\n",
       "       ['.', 'X', '.', ..., '.', '.', '.'],\n",
       "       ...,\n",
       "       ['.', '.', '.', ..., 'X', '.', '.'],\n",
       "       ['.', '.', 'X', ..., 'X', '.', '.'],\n",
       "       ['.', 'X', '.', ..., '.', '.', '.']], dtype='<U1')"
      ]
     },
     "execution_count": 9,
     "metadata": {},
     "output_type": "execute_result"
    }
   ],
   "source": [
    "grid"
   ]
  },
  {
   "cell_type": "code",
   "execution_count": 10,
   "id": "56b7e107",
   "metadata": {},
   "outputs": [
    {
     "ename": "NameError",
     "evalue": "name 'sx' is not defined",
     "output_type": "error",
     "traceback": [
      "\u001b[1;31m---------------------------------------------------------------------------\u001b[0m",
      "\u001b[1;31mNameError\u001b[0m                                 Traceback (most recent call last)",
      "\u001b[1;32m<ipython-input-10-3e11ed3682f0>\u001b[0m in \u001b[0;36m<module>\u001b[1;34m\u001b[0m\n\u001b[1;32m----> 1\u001b[1;33m \u001b[0mgw\u001b[0m \u001b[1;33m=\u001b[0m \u001b[0mGridWorld\u001b[0m\u001b[1;33m(\u001b[0m\u001b[0mgrid\u001b[0m\u001b[1;33m,\u001b[0m\u001b[1;33m(\u001b[0m\u001b[0msx\u001b[0m\u001b[1;33m,\u001b[0m\u001b[0msy\u001b[0m\u001b[1;33m)\u001b[0m\u001b[1;33m,\u001b[0m\u001b[1;33m(\u001b[0m\u001b[0mtx\u001b[0m\u001b[1;33m,\u001b[0m\u001b[0mty\u001b[0m\u001b[1;33m)\u001b[0m\u001b[1;33m,\u001b[0m\u001b[0mn\u001b[0m\u001b[1;33m,\u001b[0m\u001b[0mm\u001b[0m\u001b[1;33m)\u001b[0m\u001b[1;33m\u001b[0m\u001b[1;33m\u001b[0m\u001b[0m\n\u001b[0m\u001b[0;32m      2\u001b[0m \u001b[0mans\u001b[0m \u001b[1;33m=\u001b[0m \u001b[0mgw\u001b[0m\u001b[1;33m.\u001b[0m\u001b[0mcompute_path\u001b[0m\u001b[1;33m(\u001b[0m\u001b[1;33m)\u001b[0m\u001b[1;33m\u001b[0m\u001b[1;33m\u001b[0m\u001b[0m\n\u001b[0;32m      3\u001b[0m \u001b[1;33m\u001b[0m\u001b[0m\n\u001b[0;32m      4\u001b[0m \u001b[0mprint\u001b[0m\u001b[1;33m(\u001b[0m\u001b[0mans\u001b[0m\u001b[1;33m)\u001b[0m\u001b[1;33m\u001b[0m\u001b[1;33m\u001b[0m\u001b[0m\n",
      "\u001b[1;31mNameError\u001b[0m: name 'sx' is not defined"
     ]
    }
   ],
   "source": [
    "gw = GridWorld(grid,(sx,sy),(tx,ty),n,m)\n",
    "ans = gw.compute_path()\n",
    "\n",
    "print(ans)"
   ]
  },
  {
   "cell_type": "code",
   "execution_count": 11,
   "id": "dd65ef09",
   "metadata": {},
   "outputs": [],
   "source": [
    "# from queue import PriorityQueue\n",
    "# ## input target and start\n",
    "# class GridWorld:\n",
    "#     def __init__(self, grid, start, target, n, m):\n",
    "#         self.n= n\n",
    "#         self.m = m\n",
    "#         self.start = start\n",
    "#         self.target = target\n",
    "#         self.trajectory = []\n",
    "#         self.grid = grid #Grid with full information about blocked and unblocked cells \n",
    "#         self.agent_grid = np.full((n,n),'.') #Grid that denotes current knowledge of the agent\n",
    "#         self.visited = dict()\n",
    "#     def manhattan_distance(self, x, y):\n",
    "#         return abs(x[0]-y[0])+abs(x[1]-y[1])\n",
    "#     def get_priority(self, x):\n",
    "#         return self.manhattan_distance(x,self.target)\n",
    "#     def a_star(self, source):\n",
    "#         dirx = [-1, 1, 0, 0]\n",
    "#         diry = [0, 0, 1, -1]\n",
    "#         visited = np.zeros((self.m,self.n),dtype = np.int8)\n",
    "#         curr = (self.get_priority(source), source[0], source[1])\n",
    "#         Open = PriorityQueue()\n",
    "#         planned_path = []\n",
    "#         Open.put(curr)\n",
    "#         visited[curr[1]][curr[2]] = 1;\n",
    "#         parent = {}\n",
    "#         while(Open.empty() == False):\n",
    "#             curr = Open.get()\n",
    "#             if( curr[1] == self.target[0] and curr[2] == self.target[1]):\n",
    "#                 break\n",
    "#             for i in np.arange(4):\n",
    "#                 childx = curr[1] + dirx[i]\n",
    "#                 childy = curr[2] + diry[i]\n",
    "#                 if(childx>=0 and childx<m and childy>=0 and childy<n and visited[childx][childy]==0 and self.agent_grid[childx][childy]!='X'):\n",
    "#                     visited[childx][childy] = 1\n",
    "#                     parent[(childx,childy)] = (curr[1],curr[2])\n",
    "#                     child = (self.get_priority((childx,childy)),childx,childy)\n",
    "#                     Open.put(child)\n",
    "#         if(visited[self.target[0]][self.target[1]]==0):\n",
    "#             return[]\n",
    "#         curr = self.target\n",
    "#         while(curr!=source):\n",
    "#             planned_path.append(curr)\n",
    "#             curr = parent[curr]\n",
    "#         planned_path.append(source)\n",
    "#         return planned_path[::-1]\n",
    "#     def check_planned_path(self, planned_path):\n",
    "#         dirx = [-1, 1, 0, 0]\n",
    "#         diry = [0, 0, 1, -1]\n",
    "#         n = len(planned_path)\n",
    "#         traversed_path = []\n",
    "#         for i in np.arange(n):\n",
    "#             currx = planned_path[i][0];\n",
    "#             curry = planned_path[i][1];\n",
    "#             if(grid[currx][curry] == 'X'):\n",
    "#                 break\n",
    "#             for i in np.arange(4):\n",
    "#                 childx = currx + dirx[i]\n",
    "#                 childy = curry + diry[i]\n",
    "#                 if(childx>=0 and childx<self.m and childy>=0 and childy<self.n):\n",
    "#                     self.agent_grid[childx][childy] = self.grid[childx][childy]\n",
    "#             traversed_path.append((currx,curry))\n",
    "#         return traversed_path\n",
    "#     def combine_path(self, path):\n",
    "#         self.trajectory = [self.start]\n",
    "#         for traverse_list in path:\n",
    "#             n = len(traverse_list)\n",
    "#             print(\"***\",traverse_list)\n",
    "#             for idx in np.arange(n):\n",
    "#                 if(idx == 0):\n",
    "#                     continue\n",
    "#                 self.trajectory.append(traverse_list[idx])\n",
    "#     def compute_path(self):\n",
    "#         path = []\n",
    "#         curr = self.start\n",
    "#         while(curr!=self.target):\n",
    "#             planned_path = self.a_star(curr)\n",
    "#             if( len(planned_path) == 0):\n",
    "#                 print(\"No path available.\")\n",
    "#                 return []\n",
    "#             traversed_path = self.check_planned_path(planned_path)\n",
    "#             print(\"curr: \",curr)\n",
    "#             print(\"planned_path: \")\n",
    "#             print(planned_path)\n",
    "#             print(\"traversed_path: \")\n",
    "#             print(traversed_path)\n",
    "#             n = len(traversed_path)\n",
    "#             path.append(traversed_path)\n",
    "#             if(traversed_path[n-1] == self.target):\n",
    "#                 break\n",
    "#             curr = traversed_path[n-1]\n",
    "#         self.combine_path(path)\n",
    "#         return path"
   ]
  },
  {
   "cell_type": "code",
   "execution_count": null,
   "id": "2d445dbd",
   "metadata": {},
   "outputs": [],
   "source": []
  },
  {
   "cell_type": "markdown",
   "id": "83f71b91",
   "metadata": {},
   "source": [
    "### Question-4\n",
    "\n",
    "\"p\" is the probaility whether the cells are blocked.\n",
    "Need to plot the graph of p vs solvability of the grid.\n",
    "\n",
    "Expectation: As p increases, solvability of the graph decreases since number of blocked cells increases. So, monotonic deceasing curve."
   ]
  },
  {
   "cell_type": "code",
   "execution_count": 4,
   "id": "dd545825",
   "metadata": {},
   "outputs": [
    {
     "name": "stdout",
     "output_type": "stream",
     "text": [
      "[0.   0.02 0.04 0.06 0.08 0.1  0.12 0.14 0.16 0.18 0.2  0.22 0.24 0.26\n",
      " 0.28 0.3  0.32 0.34 0.36 0.38 0.4  0.42 0.44 0.46 0.48 0.5  0.52 0.54\n",
      " 0.56 0.58 0.6  0.62 0.64 0.66 0.68 0.7  0.72 0.74 0.76 0.78 0.8  0.82\n",
      " 0.84 0.86 0.88 0.9  0.92 0.94 0.96 0.98 1.  ]\n"
     ]
    }
   ],
   "source": [
    "p_values = np.linspace(0,1,51)\n",
    "print(p_values)\n",
    "result_x = p_values[1:50]"
   ]
  },
  {
   "cell_type": "code",
   "execution_count": 5,
   "id": "7d50e55f",
   "metadata": {},
   "outputs": [
    {
     "data": {
      "text/plain": [
       "51"
      ]
     },
     "execution_count": 5,
     "metadata": {},
     "output_type": "execute_result"
    }
   ],
   "source": [
    "len(p_values)"
   ]
  },
  {
   "cell_type": "code",
   "execution_count": 6,
   "id": "37659be6",
   "metadata": {},
   "outputs": [],
   "source": [
    "from tqdm import tqdm"
   ]
  },
  {
   "cell_type": "code",
   "execution_count": 7,
   "id": "72bd986c",
   "metadata": {},
   "outputs": [
    {
     "name": "stderr",
     "output_type": "stream",
     "text": [
      "  8%|████████████▋                                                                                                                                                     | 4/51 [10:07<1:58:52, 151.76s/it]\n"
     ]
    },
    {
     "ename": "KeyboardInterrupt",
     "evalue": "",
     "output_type": "error",
     "traceback": [
      "\u001b[1;31m---------------------------------------------------------------------------\u001b[0m",
      "\u001b[1;31mKeyboardInterrupt\u001b[0m                         Traceback (most recent call last)",
      "\u001b[1;32m<ipython-input-7-9ac31132b1c9>\u001b[0m in \u001b[0;36m<module>\u001b[1;34m\u001b[0m\n\u001b[0;32m     20\u001b[0m             \u001b[0mgrid\u001b[0m \u001b[1;33m=\u001b[0m \u001b[0mnp\u001b[0m\u001b[1;33m.\u001b[0m\u001b[0marray\u001b[0m\u001b[1;33m(\u001b[0m\u001b[0mgrid\u001b[0m\u001b[1;33m)\u001b[0m\u001b[1;33m\u001b[0m\u001b[1;33m\u001b[0m\u001b[0m\n\u001b[0;32m     21\u001b[0m             \u001b[0mgw\u001b[0m \u001b[1;33m=\u001b[0m \u001b[0mGridWorld\u001b[0m\u001b[1;33m(\u001b[0m\u001b[0mgrid\u001b[0m\u001b[1;33m,\u001b[0m\u001b[1;33m(\u001b[0m\u001b[1;36m0\u001b[0m\u001b[1;33m,\u001b[0m\u001b[1;36m0\u001b[0m\u001b[1;33m)\u001b[0m\u001b[1;33m,\u001b[0m\u001b[1;33m(\u001b[0m\u001b[1;36m100\u001b[0m\u001b[1;33m,\u001b[0m\u001b[1;36m100\u001b[0m\u001b[1;33m)\u001b[0m\u001b[1;33m,\u001b[0m\u001b[1;36m101\u001b[0m\u001b[1;33m,\u001b[0m\u001b[1;36m101\u001b[0m\u001b[1;33m)\u001b[0m\u001b[1;33m\u001b[0m\u001b[1;33m\u001b[0m\u001b[0m\n\u001b[1;32m---> 22\u001b[1;33m             \u001b[0mans\u001b[0m \u001b[1;33m=\u001b[0m \u001b[0mgw\u001b[0m\u001b[1;33m.\u001b[0m\u001b[0mcompute_path\u001b[0m\u001b[1;33m(\u001b[0m\u001b[1;33m)\u001b[0m\u001b[1;33m\u001b[0m\u001b[1;33m\u001b[0m\u001b[0m\n\u001b[0m\u001b[0;32m     23\u001b[0m             \u001b[1;32mif\u001b[0m\u001b[1;33m(\u001b[0m\u001b[0mlen\u001b[0m\u001b[1;33m(\u001b[0m\u001b[0mans\u001b[0m\u001b[1;33m)\u001b[0m\u001b[1;33m>\u001b[0m\u001b[1;36m0\u001b[0m\u001b[1;33m)\u001b[0m\u001b[1;33m:\u001b[0m\u001b[1;33m\u001b[0m\u001b[1;33m\u001b[0m\u001b[0m\n\u001b[0;32m     24\u001b[0m                 \u001b[0mfreq\u001b[0m \u001b[1;33m=\u001b[0m \u001b[0mfreq\u001b[0m \u001b[1;33m+\u001b[0m \u001b[1;36m1\u001b[0m\u001b[1;33m\u001b[0m\u001b[1;33m\u001b[0m\u001b[0m\n",
      "\u001b[1;32m<ipython-input-3-e212135e5a7f>\u001b[0m in \u001b[0;36mcompute_path\u001b[1;34m(self)\u001b[0m\n\u001b[0;32m    174\u001b[0m             \u001b[1;32mif\u001b[0m\u001b[1;33m(\u001b[0m \u001b[0mlen\u001b[0m\u001b[1;33m(\u001b[0m\u001b[0mplanned_path\u001b[0m\u001b[1;33m)\u001b[0m \u001b[1;33m==\u001b[0m \u001b[1;36m0\u001b[0m \u001b[1;33m)\u001b[0m\u001b[1;33m:\u001b[0m\u001b[1;33m\u001b[0m\u001b[1;33m\u001b[0m\u001b[0m\n\u001b[0;32m    175\u001b[0m                 \u001b[1;32mreturn\u001b[0m \u001b[1;33m[\u001b[0m\u001b[1;33m]\u001b[0m\u001b[1;33m\u001b[0m\u001b[1;33m\u001b[0m\u001b[0m\n\u001b[1;32m--> 176\u001b[1;33m             \u001b[0mtraversed_path\u001b[0m \u001b[1;33m=\u001b[0m \u001b[0mself\u001b[0m\u001b[1;33m.\u001b[0m\u001b[0mcheck_planned_path\u001b[0m\u001b[1;33m(\u001b[0m\u001b[0mplanned_path\u001b[0m\u001b[1;33m)\u001b[0m\u001b[1;33m\u001b[0m\u001b[1;33m\u001b[0m\u001b[0m\n\u001b[0m\u001b[0;32m    177\u001b[0m             \u001b[0mn\u001b[0m \u001b[1;33m=\u001b[0m \u001b[0mlen\u001b[0m\u001b[1;33m(\u001b[0m\u001b[0mtraversed_path\u001b[0m\u001b[1;33m)\u001b[0m\u001b[1;33m\u001b[0m\u001b[1;33m\u001b[0m\u001b[0m\n\u001b[0;32m    178\u001b[0m             \u001b[0mpath\u001b[0m\u001b[1;33m.\u001b[0m\u001b[0mappend\u001b[0m\u001b[1;33m(\u001b[0m\u001b[0mtraversed_path\u001b[0m\u001b[1;33m)\u001b[0m\u001b[1;33m\u001b[0m\u001b[1;33m\u001b[0m\u001b[0m\n",
      "\u001b[1;32m<ipython-input-3-e212135e5a7f>\u001b[0m in \u001b[0;36mcheck_planned_path\u001b[1;34m(self, planned_path)\u001b[0m\n\u001b[0;32m    159\u001b[0m                 \u001b[1;32mbreak\u001b[0m\u001b[1;33m\u001b[0m\u001b[1;33m\u001b[0m\u001b[0m\n\u001b[0;32m    160\u001b[0m             \u001b[0mtraversed_path\u001b[0m\u001b[1;33m.\u001b[0m\u001b[0mappend\u001b[0m\u001b[1;33m(\u001b[0m\u001b[1;33m(\u001b[0m\u001b[0mcurrx\u001b[0m\u001b[1;33m,\u001b[0m\u001b[0mcurry\u001b[0m\u001b[1;33m)\u001b[0m\u001b[1;33m)\u001b[0m\u001b[1;33m\u001b[0m\u001b[1;33m\u001b[0m\u001b[0m\n\u001b[1;32m--> 161\u001b[1;33m             \u001b[1;32mfor\u001b[0m \u001b[0mi\u001b[0m \u001b[1;32min\u001b[0m \u001b[0mnp\u001b[0m\u001b[1;33m.\u001b[0m\u001b[0marange\u001b[0m\u001b[1;33m(\u001b[0m\u001b[1;36m4\u001b[0m\u001b[1;33m)\u001b[0m\u001b[1;33m:\u001b[0m\u001b[1;33m\u001b[0m\u001b[1;33m\u001b[0m\u001b[0m\n\u001b[0m\u001b[0;32m    162\u001b[0m                 \u001b[0mchildx\u001b[0m \u001b[1;33m=\u001b[0m \u001b[0mcurrx\u001b[0m \u001b[1;33m+\u001b[0m \u001b[0mdirx\u001b[0m\u001b[1;33m[\u001b[0m\u001b[0mi\u001b[0m\u001b[1;33m]\u001b[0m\u001b[1;33m\u001b[0m\u001b[1;33m\u001b[0m\u001b[0m\n\u001b[0;32m    163\u001b[0m                 \u001b[0mchildy\u001b[0m \u001b[1;33m=\u001b[0m \u001b[0mcurry\u001b[0m \u001b[1;33m+\u001b[0m \u001b[0mdiry\u001b[0m\u001b[1;33m[\u001b[0m\u001b[0mi\u001b[0m\u001b[1;33m]\u001b[0m\u001b[1;33m\u001b[0m\u001b[1;33m\u001b[0m\u001b[0m\n",
      "\u001b[1;31mKeyboardInterrupt\u001b[0m: "
     ]
    }
   ],
   "source": [
    "from tqdm import tqdm\n",
    "cnt = 0\n",
    "result_y = []\n",
    "p_values = np.round(p_values,2)\n",
    "result_x = p_values[1:50]\n",
    "for p in tqdm(p_values):\n",
    "    if p == 0 or  p== 1:\n",
    "        continue\n",
    "    with open('C:/Users/karan/Desktop/Rutgers Courses/CS520/Project1/Grid_data/'+'p'+str(p)+'.txt') as f:\n",
    "        grid_data = f.readlines()\n",
    "        freq = 0\n",
    "        for s in grid_data:\n",
    "            i = 0\n",
    "            grid = [] ## matrix that contains full knowledge of gridworld\n",
    "            m = 101\n",
    "            n = 101\n",
    "            while(i<m*n):\n",
    "                grid.append(list(s[i:i+n]))\n",
    "                i = i + n\n",
    "            grid = np.array(grid)\n",
    "            gw = GridWorld(grid,(0,0),(100,100),101,101)\n",
    "            ans = gw.compute_path()\n",
    "            if(len(ans)>0):\n",
    "                freq = freq + 1\n",
    "        result_y.append(freq)"
   ]
  },
  {
   "cell_type": "code",
   "execution_count": 89,
   "id": "1e108ed7",
   "metadata": {},
   "outputs": [
    {
     "data": {
      "text/plain": [
       "0.3"
      ]
     },
     "execution_count": 89,
     "metadata": {},
     "output_type": "execute_result"
    }
   ],
   "source": [
    "result_x[14]"
   ]
  },
  {
   "cell_type": "code",
   "execution_count": 87,
   "id": "2a212799",
   "metadata": {},
   "outputs": [
    {
     "data": {
      "text/plain": [
       "[1000,\n",
       " 993,\n",
       " 992,\n",
       " 973,\n",
       " 972,\n",
       " 960,\n",
       " 952,\n",
       " 904,\n",
       " 881,\n",
       " 843,\n",
       " 805,\n",
       " 728,\n",
       " 682,\n",
       " 591,\n",
       " 503,\n",
       " 415,\n",
       " 312,\n",
       " 192,\n",
       " 81,\n",
       " 21,\n",
       " 0,\n",
       " 0,\n",
       " 0,\n",
       " 0,\n",
       " 0,\n",
       " 0,\n",
       " 0,\n",
       " 0,\n",
       " 0,\n",
       " 0,\n",
       " 0,\n",
       " 0,\n",
       " 0,\n",
       " 0,\n",
       " 0,\n",
       " 0,\n",
       " 0,\n",
       " 0,\n",
       " 0,\n",
       " 0,\n",
       " 0,\n",
       " 0,\n",
       " 0,\n",
       " 0,\n",
       " 0,\n",
       " 0,\n",
       " 0,\n",
       " 0,\n",
       " 0]"
      ]
     },
     "execution_count": 87,
     "metadata": {},
     "output_type": "execute_result"
    }
   ],
   "source": [
    "result_y"
   ]
  },
  {
   "cell_type": "code",
   "execution_count": 12,
   "id": "6e09e184",
   "metadata": {},
   "outputs": [
    {
     "name": "stdout",
     "output_type": "stream",
     "text": [
      "[0.   0.02 0.04 0.06 0.08 0.1  0.12 0.14 0.16 0.18 0.2  0.22 0.24 0.26\n",
      " 0.28 0.3  0.32 0.34 0.36 0.38 0.4  0.42 0.44 0.46 0.48 0.5  0.52 0.54\n",
      " 0.56 0.58 0.6  0.62 0.64 0.66 0.68 0.7  0.72 0.74 0.76 0.78 0.8  0.82\n",
      " 0.84 0.86 0.88 0.9  0.92 0.94 0.96 0.98 1.  ]\n"
     ]
    },
    {
     "data": {
      "text/plain": [
       "Text(0, 0.5, 'Number of solved grids')"
      ]
     },
     "execution_count": 12,
     "metadata": {},
     "output_type": "execute_result"
    },
    {
     "data": {
      "image/png": "[encoded data removed]",
      "text/plain": [
       "<Figure size 432x288 with 1 Axes>"
      ]
     },
     "metadata": {
      "needs_background": "light"
     },
     "output_type": "display_data"
    }
   ],
   "source": [
    "import matplotlib.pyplot as plt\n",
    "import numpy as np\n",
    "p_values = np.linspace(0,1,51)\n",
    "print(p_values)\n",
    "result_x = p_values[1:50]\n",
    "plt.plot(result_x, my_list)\n",
    "plt.xlabel('Density')\n",
    "plt.ylabel('Number of solved grids')"
   ]
  },
  {
   "cell_type": "code",
   "execution_count": null,
   "id": "21addc9d",
   "metadata": {},
   "outputs": [],
   "source": [
    "for i in np.arange(len(result_y)):\n",
    "    if result_y[i]>=480 and result_y[i]<=520:\n",
    "        print(\"p: \",result_x[i],\" freq: \",result_y[i]) "
   ]
  },
  {
   "cell_type": "code",
   "execution_count": null,
   "id": "8312ace9",
   "metadata": {},
   "outputs": [],
   "source": [
    "result_y"
   ]
  },
  {
   "cell_type": "code",
   "execution_count": null,
   "id": "e7b672b7",
   "metadata": {},
   "outputs": [],
   "source": [
    "# import pickle\n",
    "# with open('Q_4_pvssolvability.pkl','wb') as f:\n",
    "#     pickle.dump(result_y, f)"
   ]
  },
  {
   "cell_type": "code",
   "execution_count": 6,
   "id": "a9a9a100",
   "metadata": {},
   "outputs": [],
   "source": [
    "import pickle\n",
    "with open('Q_4_pvssolvability.pkl','rb') as f:\n",
    "    my_list = pickle.load(f)"
   ]
  },
  {
   "cell_type": "code",
   "execution_count": null,
   "id": "083b6f0d",
   "metadata": {},
   "outputs": [],
   "source": [
    "p_values"
   ]
  },
  {
   "cell_type": "code",
   "execution_count": 2,
   "id": "a3120430",
   "metadata": {},
   "outputs": [
    {
     "ename": "NameError",
     "evalue": "name 'result_x' is not defined",
     "output_type": "error",
     "traceback": [
      "\u001b[1;31m---------------------------------------------------------------------------\u001b[0m",
      "\u001b[1;31mNameError\u001b[0m                                 Traceback (most recent call last)",
      "\u001b[1;32m<ipython-input-2-015744dd8556>\u001b[0m in \u001b[0;36m<module>\u001b[1;34m\u001b[0m\n\u001b[0;32m      1\u001b[0m \u001b[1;32mimport\u001b[0m \u001b[0mmatplotlib\u001b[0m\u001b[1;33m.\u001b[0m\u001b[0mpyplot\u001b[0m \u001b[1;32mas\u001b[0m \u001b[0mplt\u001b[0m\u001b[1;33m\u001b[0m\u001b[1;33m\u001b[0m\u001b[0m\n\u001b[1;32m----> 2\u001b[1;33m \u001b[0mplt\u001b[0m\u001b[1;33m.\u001b[0m\u001b[0mplot\u001b[0m\u001b[1;33m(\u001b[0m\u001b[0mresult_x\u001b[0m\u001b[1;33m,\u001b[0m \u001b[0mmy_list\u001b[0m\u001b[1;33m)\u001b[0m\u001b[1;33m\u001b[0m\u001b[1;33m\u001b[0m\u001b[0m\n\u001b[0m\u001b[0;32m      3\u001b[0m \u001b[0mplt\u001b[0m\u001b[1;33m.\u001b[0m\u001b[0mxlabel\u001b[0m\u001b[1;33m(\u001b[0m\u001b[1;34m'Density'\u001b[0m\u001b[1;33m)\u001b[0m\u001b[1;33m\u001b[0m\u001b[1;33m\u001b[0m\u001b[0m\n\u001b[0;32m      4\u001b[0m \u001b[0mplt\u001b[0m\u001b[1;33m.\u001b[0m\u001b[0mylabel\u001b[0m\u001b[1;33m(\u001b[0m\u001b[1;34m'Number of solved grids'\u001b[0m\u001b[1;33m)\u001b[0m\u001b[1;33m\u001b[0m\u001b[1;33m\u001b[0m\u001b[0m\n\u001b[0;32m      5\u001b[0m \u001b[0mplt\u001b[0m\u001b[1;33m.\u001b[0m\u001b[0mtitle\u001b[0m\u001b[1;33m(\u001b[0m\u001b[1;34m' Number of solved grids vs Density of blocked cells'\u001b[0m\u001b[1;33m)\u001b[0m\u001b[1;33m\u001b[0m\u001b[1;33m\u001b[0m\u001b[0m\n",
      "\u001b[1;31mNameError\u001b[0m: name 'result_x' is not defined"
     ]
    }
   ],
   "source": [
    "import matplotlib.pyplot as plt\n",
    "plt.plot(result_x, my_list)\n",
    "plt.xlabel('Density')\n",
    "plt.ylabel('Number of solved grids')\n",
    "plt.title(' Number of solved grids vs Density of blocked cells')"
   ]
  },
  {
   "cell_type": "code",
   "execution_count": 51,
   "id": "206a0fce",
   "metadata": {},
   "outputs": [
    {
     "data": {
      "text/plain": [
       "array([0.02, 0.04, 0.06, 0.08, 0.1 , 0.12, 0.14, 0.16, 0.18, 0.2 , 0.22,\n",
       "       0.24, 0.26, 0.28, 0.3 , 0.32, 0.34, 0.36, 0.38, 0.4 , 0.42, 0.44,\n",
       "       0.46, 0.48, 0.5 , 0.52, 0.54, 0.56, 0.58, 0.6 , 0.62, 0.64, 0.66,\n",
       "       0.68, 0.7 , 0.72, 0.74, 0.76, 0.78, 0.8 , 0.82, 0.84, 0.86, 0.88,\n",
       "       0.9 , 0.92, 0.94, 0.96, 0.98])"
      ]
     },
     "execution_count": 51,
     "metadata": {},
     "output_type": "execute_result"
    }
   ],
   "source": [
    "result_x"
   ]
  },
  {
   "cell_type": "code",
   "execution_count": 52,
   "id": "1dc11b76",
   "metadata": {},
   "outputs": [
    {
     "data": {
      "text/plain": [
       "[1000,\n",
       " 993,\n",
       " 992,\n",
       " 973,\n",
       " 972,\n",
       " 960,\n",
       " 952,\n",
       " 904,\n",
       " 882,\n",
       " 843,\n",
       " 805,\n",
       " 729,\n",
       " 684,\n",
       " 594,\n",
       " 507,\n",
       " 428,\n",
       " 331,\n",
       " 211,\n",
       " 103,\n",
       " 52,\n",
       " 27,\n",
       " 22,\n",
       " 19,\n",
       " 10,\n",
       " 7,\n",
       " 8,\n",
       " 0,\n",
       " 0,\n",
       " 0,\n",
       " 0,\n",
       " 0,\n",
       " 0,\n",
       " 0,\n",
       " 0,\n",
       " 0,\n",
       " 0,\n",
       " 0,\n",
       " 0,\n",
       " 0,\n",
       " 0,\n",
       " 0,\n",
       " 0,\n",
       " 0,\n",
       " 0,\n",
       " 0,\n",
       " 0,\n",
       " 0,\n",
       " 0,\n",
       " 0]"
      ]
     },
     "execution_count": 52,
     "metadata": {},
     "output_type": "execute_result"
    }
   ],
   "source": [
    "my_list"
   ]
  },
  {
   "cell_type": "markdown",
   "id": "cf2b8059",
   "metadata": {},
   "source": [
    "## Question 5\n",
    "\n",
    "Comparing heuristics - Euclidean, Manhattan, and Chebyshev.\n",
    "\n",
    "Metric:\n",
    "1. Time required to complete the grid (time)\n",
    "2. Difference between the shortest path length in the whole grid and the current path\n",
    "3. average number of cells processed"
   ]
  },
  {
   "cell_type": "code",
   "execution_count": 90,
   "id": "f20751c1",
   "metadata": {},
   "outputs": [],
   "source": [
    "import datetime\n",
    "p = 0.2\n",
    "idx = np.arange(1000)\n",
    "total_time_taken = []\n",
    "avg_num_cells = []\n",
    "shortest_path_length = []\n",
    "def compute_path_length(path):\n",
    "    length = 0\n",
    "    for x in path:\n",
    "        length = length + len(x)-1\n",
    "    return length+1\n",
    "with open('C:/Users/karan/Desktop/Rutgers Courses/CS520/Project1/Grid_data/'+'p'+str(p)+'.txt') as f:\n",
    "    grid_data = f.readlines()\n",
    "    for s in grid_data:\n",
    "        i = 0\n",
    "        grid = [] ## matrix that contains full knowledge of gridworld\n",
    "        m = 101\n",
    "        n = 101\n",
    "        while(i<m*n):\n",
    "            grid.append(list(s[i:i+n]))\n",
    "            i = i + n\n",
    "        grid = np.array(grid)\n",
    "        gw = GridWorld(grid,(0,0),(100,100),101,101, grid)\n",
    "        start_time = datetime.datetime.now()\n",
    "        ans = gw.a_star((0,0),'c')\n",
    "        end_time = datetime.datetime.now()\n",
    "        if(len(ans) == 0):\n",
    "            continue\n",
    "        total_time_taken.append(end_time-start_time)\n",
    "        avg_num_cells.append(gw.avg_num_cells_processed)\n",
    "        shortest_path_length.append(len(ans))\n",
    "#         path_length = compute_path_length(ans)\n",
    "#         gw2 = GridWorld(grid, (0,0), (100,100), 101, 101, grid)\n",
    "#         shortest_path = gw2.a_star((0,0))\n",
    "#         shortest_path_length.append(len(shortest_path))"
   ]
  },
  {
   "cell_type": "code",
   "execution_count": 76,
   "id": "64deb30c",
   "metadata": {},
   "outputs": [],
   "source": [
    "total_seconds = []\n",
    "for x in total_time_taken:\n",
    "    total_seconds.append(x.total_seconds())"
   ]
  },
  {
   "cell_type": "code",
   "execution_count": 77,
   "id": "a9619eea",
   "metadata": {},
   "outputs": [
    {
     "data": {
      "text/plain": [
       "[0.673693,\n",
       " 0.663487,\n",
       " 0.572022,\n",
       " 0.672705,\n",
       " 0.615088,\n",
       " 0.645673,\n",
       " 0.661779,\n",
       " 0.61057,\n",
       " 0.680636,\n",
       " 0.644864,\n",
       " 0.645021,\n",
       " 0.670631,\n",
       " 0.638799,\n",
       " 0.657784,\n",
       " 0.629977,\n",
       " 0.596961,\n",
       " 0.601242,\n",
       " 0.676136,\n",
       " 0.639694,\n",
       " 0.640025,\n",
       " 0.606514,\n",
       " 0.678828,\n",
       " 0.595746,\n",
       " 0.622343,\n",
       " 0.646423,\n",
       " 0.667498,\n",
       " 0.649183,\n",
       " 0.61795,\n",
       " 0.632244,\n",
       " 0.63166,\n",
       " 0.666096,\n",
       " 0.630845,\n",
       " 0.606384,\n",
       " 0.634478,\n",
       " 0.630453,\n",
       " 0.606436,\n",
       " 0.62831,\n",
       " 0.686298,\n",
       " 0.624604,\n",
       " 0.657973,\n",
       " 0.654724,\n",
       " 0.644673,\n",
       " 0.653089,\n",
       " 0.611364,\n",
       " 0.647646,\n",
       " 0.650745,\n",
       " 0.577812,\n",
       " 0.665472,\n",
       " 0.624671,\n",
       " 0.586101,\n",
       " 0.644455,\n",
       " 0.63382,\n",
       " 0.64428,\n",
       " 0.64867,\n",
       " 0.662263,\n",
       " 0.64835,\n",
       " 0.636418,\n",
       " 0.615152,\n",
       " 0.571921,\n",
       " 0.608417,\n",
       " 0.633874,\n",
       " 0.666469,\n",
       " 0.649661,\n",
       " 0.628081,\n",
       " 0.674854,\n",
       " 0.685507,\n",
       " 0.614133,\n",
       " 0.655944,\n",
       " 0.628437,\n",
       " 0.665254,\n",
       " 0.628442,\n",
       " 0.669782,\n",
       " 0.589922,\n",
       " 0.62451,\n",
       " 0.644032,\n",
       " 0.632884,\n",
       " 0.594943,\n",
       " 0.595941,\n",
       " 0.659138,\n",
       " 0.655001,\n",
       " 0.642506,\n",
       " 0.761708,\n",
       " 0.67537,\n",
       " 0.647381,\n",
       " 0.726098,\n",
       " 0.738947,\n",
       " 0.631168,\n",
       " 0.665468,\n",
       " 0.672776,\n",
       " 0.649505,\n",
       " 0.626246,\n",
       " 0.651548,\n",
       " 0.628559,\n",
       " 0.626225,\n",
       " 0.615796,\n",
       " 0.654303,\n",
       " 0.644752,\n",
       " 0.578265,\n",
       " 0.607575,\n",
       " 0.675156,\n",
       " 0.604862,\n",
       " 0.639658,\n",
       " 0.641964,\n",
       " 0.622347,\n",
       " 0.677043,\n",
       " 0.610642,\n",
       " 0.601116,\n",
       " 0.657536,\n",
       " 0.622748,\n",
       " 0.617881,\n",
       " 0.645101,\n",
       " 0.654865,\n",
       " 0.694934,\n",
       " 0.658024,\n",
       " 0.634268,\n",
       " 0.63032,\n",
       " 0.61123,\n",
       " 0.642176,\n",
       " 0.658168,\n",
       " 0.663254,\n",
       " 0.644626,\n",
       " 0.640656,\n",
       " 0.679248,\n",
       " 0.634835,\n",
       " 0.61911,\n",
       " 0.649065,\n",
       " 0.638726,\n",
       " 0.676713,\n",
       " 0.677198,\n",
       " 0.665328,\n",
       " 0.662737,\n",
       " 0.647038,\n",
       " 0.555963,\n",
       " 0.6345,\n",
       " 0.669172,\n",
       " 0.663696,\n",
       " 0.692668,\n",
       " 0.679613,\n",
       " 0.644512,\n",
       " 0.65094,\n",
       " 0.648659,\n",
       " 0.678894,\n",
       " 0.627201,\n",
       " 0.620623,\n",
       " 0.661572,\n",
       " 0.661051,\n",
       " 0.705518,\n",
       " 0.685484,\n",
       " 0.667272,\n",
       " 0.639523,\n",
       " 0.649807,\n",
       " 0.650873,\n",
       " 0.669702,\n",
       " 0.693055,\n",
       " 0.660041,\n",
       " 0.661125,\n",
       " 0.648931,\n",
       " 0.64472,\n",
       " 0.641723,\n",
       " 0.671905,\n",
       " 0.706627,\n",
       " 0.727589,\n",
       " 0.637468,\n",
       " 0.636954,\n",
       " 0.6419,\n",
       " 0.595458,\n",
       " 0.636496,\n",
       " 0.632717,\n",
       " 0.703991,\n",
       " 0.631028,\n",
       " 0.644104,\n",
       " 0.64431,\n",
       " 0.65081,\n",
       " 0.665126,\n",
       " 0.62825,\n",
       " 0.637845,\n",
       " 0.639256,\n",
       " 0.65539,\n",
       " 0.652783,\n",
       " 0.65876,\n",
       " 0.689234,\n",
       " 0.647314,\n",
       " 0.6399,\n",
       " 0.607641,\n",
       " 0.700565,\n",
       " 0.635066,\n",
       " 0.608686,\n",
       " 0.640643,\n",
       " 0.618082,\n",
       " 0.615643,\n",
       " 0.669613,\n",
       " 0.635742,\n",
       " 0.627531,\n",
       " 0.61156,\n",
       " 0.6423,\n",
       " 0.631816,\n",
       " 0.688256,\n",
       " 0.647642,\n",
       " 0.617922,\n",
       " 0.628269,\n",
       " 0.649407,\n",
       " 0.621887,\n",
       " 0.638241,\n",
       " 0.684958,\n",
       " 0.647579,\n",
       " 0.667634,\n",
       " 0.644421,\n",
       " 0.64864,\n",
       " 0.656724,\n",
       " 0.588741,\n",
       " 0.65935,\n",
       " 0.629391,\n",
       " 0.644303,\n",
       " 0.607678,\n",
       " 0.632434,\n",
       " 0.63191,\n",
       " 0.652046,\n",
       " 0.627923,\n",
       " 0.682883,\n",
       " 0.585046,\n",
       " 0.659258,\n",
       " 0.608028,\n",
       " 0.646482,\n",
       " 0.634315,\n",
       " 0.690917,\n",
       " 0.659886,\n",
       " 0.638076,\n",
       " 0.668537,\n",
       " 0.619289,\n",
       " 0.661005,\n",
       " 0.635586,\n",
       " 0.614824,\n",
       " 0.633109,\n",
       " 0.657349,\n",
       " 0.683493,\n",
       " 0.596637,\n",
       " 0.66187,\n",
       " 0.658162,\n",
       " 0.647257,\n",
       " 0.613283,\n",
       " 0.632995,\n",
       " 0.682955,\n",
       " 0.628402,\n",
       " 0.606196,\n",
       " 0.652853,\n",
       " 0.649495,\n",
       " 0.623967,\n",
       " 0.6667,\n",
       " 0.623013,\n",
       " 0.651468,\n",
       " 0.630747,\n",
       " 0.66907,\n",
       " 0.665666,\n",
       " 0.594503,\n",
       " 0.663277,\n",
       " 0.671201,\n",
       " 0.630038,\n",
       " 0.636908,\n",
       " 0.634065,\n",
       " 0.640002,\n",
       " 0.645331,\n",
       " 0.640087,\n",
       " 0.61474,\n",
       " 0.652359,\n",
       " 0.673307,\n",
       " 0.606421,\n",
       " 0.623121,\n",
       " 0.626579,\n",
       " 0.691558,\n",
       " 0.6612,\n",
       " 0.596459,\n",
       " 0.593461,\n",
       " 0.623513,\n",
       " 0.653916,\n",
       " 0.638693,\n",
       " 0.637898,\n",
       " 0.66542,\n",
       " 0.605899,\n",
       " 0.659801,\n",
       " 0.643459,\n",
       " 0.664138,\n",
       " 0.636043,\n",
       " 0.651179,\n",
       " 0.654981,\n",
       " 0.649667,\n",
       " 0.695487,\n",
       " 0.663884,\n",
       " 0.661183,\n",
       " 0.628063,\n",
       " 0.602676,\n",
       " 0.673827,\n",
       " 0.644918,\n",
       " 0.576632,\n",
       " 0.653452,\n",
       " 0.598497,\n",
       " 0.626156,\n",
       " 0.650401,\n",
       " 0.636973,\n",
       " 0.620086,\n",
       " 0.670071,\n",
       " 0.624204,\n",
       " 0.662051,\n",
       " 0.622645,\n",
       " 0.626735,\n",
       " 0.632406,\n",
       " 0.630254,\n",
       " 0.619425,\n",
       " 0.664206,\n",
       " 0.643555,\n",
       " 0.634351,\n",
       " 0.674492,\n",
       " 0.621922,\n",
       " 0.669258,\n",
       " 0.677024,\n",
       " 0.621711,\n",
       " 0.671609,\n",
       " 0.655575,\n",
       " 0.660658,\n",
       " 0.679743,\n",
       " 0.638874,\n",
       " 0.62474,\n",
       " 0.591473,\n",
       " 0.658528,\n",
       " 0.624928,\n",
       " 0.678867,\n",
       " 0.636935,\n",
       " 0.618272,\n",
       " 0.649064,\n",
       " 0.654244,\n",
       " 0.662915,\n",
       " 0.666491,\n",
       " 0.653017,\n",
       " 0.576952,\n",
       " 0.634781,\n",
       " 0.624805,\n",
       " 0.640244,\n",
       " 0.616621,\n",
       " 0.62806,\n",
       " 0.635112,\n",
       " 0.675544,\n",
       " 0.631203,\n",
       " 0.651125,\n",
       " 0.655276,\n",
       " 0.657571,\n",
       " 0.61999,\n",
       " 0.649679,\n",
       " 0.639757,\n",
       " 0.635531,\n",
       " 0.598017,\n",
       " 0.630144,\n",
       " 0.630423,\n",
       " 0.611119,\n",
       " 0.61026,\n",
       " 0.63465,\n",
       " 0.620228,\n",
       " 0.618283,\n",
       " 0.666056,\n",
       " 0.638236,\n",
       " 0.671871,\n",
       " 0.689056,\n",
       " 0.674244,\n",
       " 0.622388,\n",
       " 0.570263,\n",
       " 0.657591,\n",
       " 0.620765,\n",
       " 0.60588,\n",
       " 0.626118,\n",
       " 0.62107,\n",
       " 0.615927,\n",
       " 0.62706,\n",
       " 0.653738,\n",
       " 0.64194,\n",
       " 0.67148,\n",
       " 0.670405,\n",
       " 0.637982,\n",
       " 0.676679,\n",
       " 0.611722,\n",
       " 0.706831,\n",
       " 0.594436,\n",
       " 0.677704,\n",
       " 0.65987,\n",
       " 0.624813,\n",
       " 0.616142,\n",
       " 0.646054,\n",
       " 0.676839,\n",
       " 0.658355,\n",
       " 0.632092,\n",
       " 0.671444,\n",
       " 0.64006,\n",
       " 0.647231,\n",
       " 0.615661,\n",
       " 0.641678,\n",
       " 0.644447,\n",
       " 0.611801,\n",
       " 0.636764,\n",
       " 0.639128,\n",
       " 0.604224,\n",
       " 0.656902,\n",
       " 0.661596,\n",
       " 0.589222,\n",
       " 0.666736,\n",
       " 0.64238,\n",
       " 0.658668,\n",
       " 0.637957,\n",
       " 0.613639,\n",
       " 0.636617,\n",
       " 0.619908,\n",
       " 0.664704,\n",
       " 0.632683,\n",
       " 0.643351,\n",
       " 0.61985,\n",
       " 0.628142,\n",
       " 0.600994,\n",
       " 0.57911,\n",
       " 0.63745,\n",
       " 0.610732,\n",
       " 0.648297,\n",
       " 0.609175,\n",
       " 0.626629,\n",
       " 0.630403,\n",
       " 0.642803,\n",
       " 0.607143,\n",
       " 0.639912,\n",
       " 0.639736,\n",
       " 0.673247,\n",
       " 0.632539,\n",
       " 0.623265,\n",
       " 0.641883,\n",
       " 0.602266,\n",
       " 0.640867,\n",
       " 0.671701,\n",
       " 0.66847,\n",
       " 0.626076,\n",
       " 0.638509,\n",
       " 0.656493,\n",
       " 0.669232,\n",
       " 0.645725,\n",
       " 0.622741,\n",
       " 0.658472,\n",
       " 0.578029,\n",
       " 0.659405,\n",
       " 0.63663,\n",
       " 0.613508,\n",
       " 0.624999,\n",
       " 0.63996,\n",
       " 0.648871,\n",
       " 0.655799,\n",
       " 0.647622,\n",
       " 0.635357,\n",
       " 0.625729,\n",
       " 0.626946,\n",
       " 0.631344,\n",
       " 0.578326,\n",
       " 0.663553,\n",
       " 0.668828,\n",
       " 0.676584,\n",
       " 0.638157,\n",
       " 0.621447,\n",
       " 0.679995,\n",
       " 0.663185,\n",
       " 0.680583,\n",
       " 0.646695,\n",
       " 0.673434,\n",
       " 0.65773,\n",
       " 0.630464,\n",
       " 0.63428,\n",
       " 0.613277,\n",
       " 0.667847,\n",
       " 0.638882,\n",
       " 0.662053,\n",
       " 0.576892,\n",
       " 0.643232,\n",
       " 0.614697,\n",
       " 0.668934,\n",
       " 0.637288,\n",
       " 0.660681,\n",
       " 0.615591,\n",
       " 0.606918,\n",
       " 0.621896,\n",
       " 0.637223,\n",
       " 0.66279,\n",
       " 0.695046,\n",
       " 0.668122,\n",
       " 0.637838,\n",
       " 0.638069,\n",
       " 0.641631,\n",
       " 0.655546,\n",
       " 0.684793,\n",
       " 0.686711,\n",
       " 0.669594,\n",
       " 0.67167,\n",
       " 0.601753,\n",
       " 0.59124,\n",
       " 0.678311,\n",
       " 0.715969,\n",
       " 0.6314,\n",
       " 0.646357,\n",
       " 0.611265,\n",
       " 0.676112,\n",
       " 0.673565,\n",
       " 0.63378,\n",
       " 0.636214,\n",
       " 0.671618,\n",
       " 0.610205,\n",
       " 0.662006,\n",
       " 0.677608,\n",
       " 0.646427,\n",
       " 0.763035,\n",
       " 0.654812,\n",
       " 0.617183,\n",
       " 0.631413,\n",
       " 0.701036,\n",
       " 0.670196,\n",
       " 0.646715,\n",
       " 0.660208,\n",
       " 0.670187,\n",
       " 0.604293,\n",
       " 0.692653,\n",
       " 0.690049,\n",
       " 0.670739,\n",
       " 0.631766,\n",
       " 0.596727,\n",
       " 0.620794,\n",
       " 0.621433,\n",
       " 0.678151,\n",
       " 0.661491,\n",
       " 0.631869,\n",
       " 0.644461,\n",
       " 0.634268,\n",
       " 0.699847,\n",
       " 0.583707,\n",
       " 0.654323,\n",
       " 0.654054,\n",
       " 0.669844,\n",
       " 0.63557,\n",
       " 0.619927,\n",
       " 0.612586,\n",
       " 0.622158,\n",
       " 0.687258,\n",
       " 0.654198,\n",
       " 0.642653,\n",
       " 0.632669,\n",
       " 0.671845,\n",
       " 0.646119,\n",
       " 0.620108,\n",
       " 0.661366,\n",
       " 0.671444,\n",
       " 0.642163,\n",
       " 0.636917,\n",
       " 0.608691,\n",
       " 0.657942,\n",
       " 0.641064,\n",
       " 0.63834,\n",
       " 0.601671,\n",
       " 0.586077,\n",
       " 0.643144,\n",
       " 0.650302,\n",
       " 0.664313,\n",
       " 0.649079,\n",
       " 0.635003,\n",
       " 0.615259,\n",
       " 0.703766,\n",
       " 0.66074,\n",
       " 0.678703,\n",
       " 0.668523,\n",
       " 0.607735,\n",
       " 0.6143,\n",
       " 0.657259,\n",
       " 0.658639,\n",
       " 0.596544,\n",
       " 0.649983,\n",
       " 0.669937,\n",
       " 0.668818,\n",
       " 0.613359,\n",
       " 0.615253,\n",
       " 0.651916,\n",
       " 0.630977,\n",
       " 0.65472,\n",
       " 0.608841,\n",
       " 0.63551,\n",
       " 0.658289,\n",
       " 0.590034,\n",
       " 0.628468,\n",
       " 0.614242,\n",
       " 0.723956,\n",
       " 0.661689,\n",
       " 0.674214,\n",
       " 0.641242,\n",
       " 0.629941,\n",
       " 0.651345,\n",
       " 0.691601,\n",
       " 0.66364,\n",
       " 0.611197,\n",
       " 0.679235,\n",
       " 0.608518,\n",
       " 0.666806,\n",
       " 0.630366,\n",
       " 0.70252,\n",
       " 0.656699,\n",
       " 0.681466,\n",
       " 0.647313,\n",
       " 0.660918,\n",
       " 0.612853,\n",
       " 0.629726,\n",
       " 0.65806,\n",
       " 0.645815,\n",
       " 0.638454,\n",
       " 0.65867,\n",
       " 0.67114,\n",
       " 0.60815,\n",
       " 0.685863,\n",
       " 0.629675,\n",
       " 0.64557,\n",
       " 0.604944,\n",
       " 0.629597,\n",
       " 0.617249,\n",
       " 0.640176,\n",
       " 0.641981,\n",
       " 0.681103,\n",
       " 0.639546,\n",
       " 0.635684,\n",
       " 0.624299,\n",
       " 0.648453,\n",
       " 0.619304,\n",
       " 0.66833,\n",
       " 0.588194,\n",
       " 0.635507,\n",
       " 0.643396,\n",
       " 0.668768,\n",
       " 0.643273,\n",
       " 0.55983,\n",
       " 0.685752,\n",
       " 0.668826,\n",
       " 0.634151,\n",
       " 0.634073,\n",
       " 0.631568,\n",
       " 0.637248,\n",
       " 0.596804,\n",
       " 0.632245,\n",
       " 0.677185,\n",
       " 0.633195,\n",
       " 0.68405,\n",
       " 0.601384,\n",
       " 0.620609,\n",
       " 0.637619,\n",
       " 0.593227,\n",
       " 0.642967,\n",
       " 0.590827,\n",
       " 0.676975,\n",
       " 0.567878,\n",
       " 0.645419,\n",
       " 0.649751,\n",
       " 0.668269,\n",
       " 0.643798,\n",
       " 0.702688,\n",
       " 0.6385,\n",
       " 0.656001,\n",
       " 0.65064,\n",
       " 0.622033,\n",
       " 0.65811,\n",
       " 0.661365,\n",
       " 0.611704,\n",
       " 0.633523,\n",
       " 0.659,\n",
       " 0.654134,\n",
       " 0.679812,\n",
       " 0.620127,\n",
       " 0.666916,\n",
       " 0.613814,\n",
       " 0.639129,\n",
       " 0.638787,\n",
       " 0.640074,\n",
       " 0.643502,\n",
       " 0.698225,\n",
       " 0.612597,\n",
       " 0.596042,\n",
       " 0.647701,\n",
       " 0.630157,\n",
       " 0.618851,\n",
       " 0.664301,\n",
       " 0.638934,\n",
       " 0.642994,\n",
       " 0.631888,\n",
       " 0.630836,\n",
       " 0.635368,\n",
       " 0.6379,\n",
       " 0.664283,\n",
       " 0.634412,\n",
       " 0.642407,\n",
       " 0.620538,\n",
       " 0.691497,\n",
       " 0.649808,\n",
       " 0.680244,\n",
       " 0.669281,\n",
       " 0.683567,\n",
       " 0.644256,\n",
       " 0.640536,\n",
       " 0.610161,\n",
       " 0.653671,\n",
       " 0.654587,\n",
       " 0.654072,\n",
       " 0.647705,\n",
       " 0.644637,\n",
       " 0.628003,\n",
       " 0.710077,\n",
       " 0.670171,\n",
       " 0.65885,\n",
       " 0.675527,\n",
       " 0.672434,\n",
       " 0.608772,\n",
       " 0.639813,\n",
       " 0.641625,\n",
       " 0.622225,\n",
       " 0.659264,\n",
       " 0.624279,\n",
       " 0.629852,\n",
       " 0.625377,\n",
       " 0.631169,\n",
       " 0.638281,\n",
       " 0.602756,\n",
       " 0.630078,\n",
       " 0.638076,\n",
       " 0.607547,\n",
       " 0.64946,\n",
       " 0.619752,\n",
       " 0.61089,\n",
       " 0.64471,\n",
       " 0.646761,\n",
       " 0.635213,\n",
       " 0.647394,\n",
       " 0.62165,\n",
       " 0.640237,\n",
       " 0.666114,\n",
       " 0.618054,\n",
       " 0.655686,\n",
       " 0.626906,\n",
       " 0.646893,\n",
       " 0.626807,\n",
       " 0.642357,\n",
       " 0.622715,\n",
       " 0.62841,\n",
       " 0.637251,\n",
       " 0.645623,\n",
       " 0.583444,\n",
       " 0.611266,\n",
       " 0.636978,\n",
       " 0.657728,\n",
       " 0.700885,\n",
       " 0.644829,\n",
       " 0.636031,\n",
       " 0.698222,\n",
       " 0.646984,\n",
       " 0.665492,\n",
       " 0.636785,\n",
       " 0.640847,\n",
       " 0.671096,\n",
       " 0.613473,\n",
       " 0.61623,\n",
       " 0.619982,\n",
       " 0.636745,\n",
       " 0.648353,\n",
       " 0.628011,\n",
       " 0.637218,\n",
       " 0.640539,\n",
       " 0.640802,\n",
       " 0.658585,\n",
       " 0.669114,\n",
       " 0.66833,\n",
       " 0.638135,\n",
       " 0.656705,\n",
       " 0.653713,\n",
       " 0.664397,\n",
       " 0.621517,\n",
       " 0.666264,\n",
       " 0.668703,\n",
       " 0.659031,\n",
       " 0.633678,\n",
       " 0.663607,\n",
       " 0.60771,\n",
       " 0.619904,\n",
       " 0.634674,\n",
       " 0.649068,\n",
       " 0.627523,\n",
       " 0.637658,\n",
       " 0.661557,\n",
       " 0.645772,\n",
       " 0.672929,\n",
       " 0.620286,\n",
       " 0.634058,\n",
       " 0.640839,\n",
       " 0.575665,\n",
       " 0.629024,\n",
       " 0.625198,\n",
       " 0.628006,\n",
       " 0.685355,\n",
       " 0.671182,\n",
       " 0.640792,\n",
       " 0.67478,\n",
       " 0.597846,\n",
       " 0.62582,\n",
       " 0.630436,\n",
       " 0.672125,\n",
       " 0.640853,\n",
       " 0.65727,\n",
       " 0.626079,\n",
       " 0.676179,\n",
       " 0.584068,\n",
       " 0.680809,\n",
       " 0.675127,\n",
       " 0.6804,\n",
       " 0.662345,\n",
       " 0.643357,\n",
       " 0.630664,\n",
       " 0.684787,\n",
       " 0.617372,\n",
       " 0.676672,\n",
       " 0.666728,\n",
       " 0.633344,\n",
       " 0.593078,\n",
       " 0.642941,\n",
       " 0.645282,\n",
       " 0.631369,\n",
       " 0.625866,\n",
       " 0.665141,\n",
       " 0.64097,\n",
       " 0.645835,\n",
       " 0.64396,\n",
       " 0.64361,\n",
       " 0.64273,\n",
       " 0.631231,\n",
       " 0.662889,\n",
       " 0.645325,\n",
       " 0.645542,\n",
       " 0.691002,\n",
       " 0.628821,\n",
       " 0.644953,\n",
       " 0.692714,\n",
       " 0.61475,\n",
       " 0.63177,\n",
       " 0.702968,\n",
       " 0.640616,\n",
       " 0.619847,\n",
       " 0.605865]"
      ]
     },
     "execution_count": 77,
     "metadata": {},
     "output_type": "execute_result"
    }
   ],
   "source": [
    "total_seconds"
   ]
  },
  {
   "cell_type": "code",
   "execution_count": 78,
   "id": "55df77c0",
   "metadata": {},
   "outputs": [
    {
     "data": {
      "text/plain": [
       "[<matplotlib.lines.Line2D at 0x1d2ec51be50>]"
      ]
     },
     "execution_count": 78,
     "metadata": {},
     "output_type": "execute_result"
    },
    {
     "data": {
      "image/png": "[encoded data removed]",
      "text/plain": [
       "<Figure size 432x288 with 1 Axes>"
      ]
     },
     "metadata": {
      "needs_background": "light"
     },
     "output_type": "display_data"
    }
   ],
   "source": [
    "import matplotlib.pyplot as plt\n",
    "plt.plot(total_seconds)"
   ]
  },
  {
   "cell_type": "code",
   "execution_count": 41,
   "id": "e6593e1b",
   "metadata": {},
   "outputs": [],
   "source": [
    "x2 = []\n",
    "for i in total_seconds:\n",
    "    if i<0.5:\n",
    "        x2.append(i)"
   ]
  },
  {
   "cell_type": "code",
   "execution_count": 44,
   "id": "beeb6607",
   "metadata": {},
   "outputs": [
    {
     "data": {
      "text/plain": [
       "{'whiskers': [<matplotlib.lines.Line2D at 0x1d2ea1fdf40>,\n",
       "  <matplotlib.lines.Line2D at 0x1d2ea20a2e0>],\n",
       " 'caps': [<matplotlib.lines.Line2D at 0x1d2ea20a640>,\n",
       "  <matplotlib.lines.Line2D at 0x1d2ea20a9a0>],\n",
       " 'boxes': [<matplotlib.lines.Line2D at 0x1d2ea1fdbe0>],\n",
       " 'medians': [<matplotlib.lines.Line2D at 0x1d2ea20ad00>],\n",
       " 'fliers': [<matplotlib.lines.Line2D at 0x1d2ea2180a0>],\n",
       " 'means': []}"
      ]
     },
     "execution_count": 44,
     "metadata": {},
     "output_type": "execute_result"
    },
    {
     "data": {
      "image/png": "[encoded data removed]",
      "text/plain": [
       "<Figure size 432x288 with 1 Axes>"
      ]
     },
     "metadata": {
      "needs_background": "light"
     },
     "output_type": "display_data"
    }
   ],
   "source": [
    "plt.boxplot(x2)"
   ]
  },
  {
   "cell_type": "markdown",
   "id": "b2e1793b",
   "metadata": {},
   "source": [
    "len(x2"
   ]
  },
  {
   "cell_type": "code",
   "execution_count": 36,
   "id": "a464bd3b",
   "metadata": {},
   "outputs": [
    {
     "data": {
      "text/plain": [
       "78"
      ]
     },
     "execution_count": 36,
     "metadata": {},
     "output_type": "execute_result"
    }
   ],
   "source": [
    "len(x2)"
   ]
  },
  {
   "cell_type": "code",
   "execution_count": 67,
   "id": "675cf303",
   "metadata": {},
   "outputs": [],
   "source": [
    "# import pickle\n",
    "# with open('Q_5_Euclidean_avg_num_cells.pkl','wb') as f:\n",
    "#     pickle.dump(avg_num_cells, f)"
   ]
  },
  {
   "cell_type": "code",
   "execution_count": 68,
   "id": "e520db1a",
   "metadata": {},
   "outputs": [
    {
     "data": {
      "text/plain": [
       "[<matplotlib.lines.Line2D at 0x1d2eb4918b0>]"
      ]
     },
     "execution_count": 68,
     "metadata": {},
     "output_type": "execute_result"
    },
    {
     "data": {
      "image/png": "[encoded data removed]",
      "text/plain": [
       "<Figure size 432x288 with 1 Axes>"
      ]
     },
     "metadata": {
      "needs_background": "light"
     },
     "output_type": "display_data"
    }
   ],
   "source": [
    "plt.plot(avg_num_cells)"
   ]
  },
  {
   "cell_type": "code",
   "execution_count": null,
   "id": "243e4d13",
   "metadata": {},
   "outputs": [],
   "source": []
  },
  {
   "cell_type": "code",
   "execution_count": 53,
   "id": "4cb1bc93",
   "metadata": {},
   "outputs": [],
   "source": [
    "# import pickle\n",
    "# with open('Q_5_Manhattan_total.pkl','wb') as f:\n",
    "#     pickle.dump(total_seconds, f)"
   ]
  },
  {
   "cell_type": "code",
   "execution_count": 66,
   "id": "fc43433b",
   "metadata": {},
   "outputs": [],
   "source": [
    "# import pickle\n",
    "# with open('Q_5_Euclidean_total.pkl','wb') as f:\n",
    "#     pickle.dump(total_seconds, f)"
   ]
  },
  {
   "cell_type": "code",
   "execution_count": 54,
   "id": "f7ce2e57",
   "metadata": {},
   "outputs": [],
   "source": [
    "# import pickle\n",
    "# with open('Q_5_Manhattan_avg_num_cells.pkl','wb') as f:\n",
    "#     pickle.dump(avg_num_cells, f)"
   ]
  },
  {
   "cell_type": "code",
   "execution_count": 55,
   "id": "6f886856",
   "metadata": {},
   "outputs": [
    {
     "data": {
      "text/plain": [
       "[<matplotlib.lines.Line2D at 0x1d2ea30dee0>]"
      ]
     },
     "execution_count": 55,
     "metadata": {},
     "output_type": "execute_result"
    },
    {
     "data": {
      "image/png": "[encoded data removed]",
      "text/plain": [
       "<Figure size 432x288 with 1 Axes>"
      ]
     },
     "metadata": {
      "needs_background": "light"
     },
     "output_type": "display_data"
    }
   ],
   "source": [
    "plt.plot(avg_num_cells)"
   ]
  },
  {
   "cell_type": "code",
   "execution_count": 56,
   "id": "0f9448b6",
   "metadata": {},
   "outputs": [],
   "source": [
    "# import pickle\n",
    "# with open('Q_5_Manhattan_shortest_path_len.pkl','wb') as f:\n",
    "#     pickle.dump(shortest_path_length, f)"
   ]
  },
  {
   "cell_type": "code",
   "execution_count": 57,
   "id": "560c43b9",
   "metadata": {},
   "outputs": [
    {
     "data": {
      "text/plain": [
       "[<matplotlib.lines.Line2D at 0x1d2ea367a60>]"
      ]
     },
     "execution_count": 57,
     "metadata": {},
     "output_type": "execute_result"
    },
    {
     "data": {
      "image/png": "[encoded data removed]",
      "text/plain": [
       "<Figure size 432x288 with 1 Axes>"
      ]
     },
     "metadata": {
      "needs_background": "light"
     },
     "output_type": "display_data"
    }
   ],
   "source": [
    "plt.plot(shortest_path_length)"
   ]
  },
  {
   "cell_type": "code",
   "execution_count": 69,
   "id": "a8fe8747",
   "metadata": {},
   "outputs": [],
   "source": [
    "with open('Q_5_Manhattan_avg_num_cells.pkl', 'rb') as f:\n",
    "    mynewlist = pickle.load(f)"
   ]
  },
  {
   "cell_type": "code",
   "execution_count": 70,
   "id": "9d3d69e5",
   "metadata": {},
   "outputs": [
    {
     "data": {
      "text/plain": [
       "[<matplotlib.lines.Line2D at 0x1d2eb4ccf10>]"
      ]
     },
     "execution_count": 70,
     "metadata": {},
     "output_type": "execute_result"
    },
    {
     "data": {
      "image/png": "[encoded data removed]",
      "text/plain": [
       "<Figure size 432x288 with 1 Axes>"
      ]
     },
     "metadata": {
      "needs_background": "light"
     },
     "output_type": "display_data"
    }
   ],
   "source": [
    "plt.plot(mynewlist)"
   ]
  },
  {
   "cell_type": "code",
   "execution_count": 92,
   "id": "4c3e9ed5",
   "metadata": {},
   "outputs": [],
   "source": [
    "p_values = np.linspace(0,0.3,31)"
   ]
  },
  {
   "cell_type": "code",
   "execution_count": null,
   "id": "e5952815",
   "metadata": {},
   "outputs": [],
   "source": []
  },
  {
   "cell_type": "code",
   "execution_count": null,
   "id": "87b6baac",
   "metadata": {},
   "outputs": [],
   "source": []
  },
  {
   "cell_type": "markdown",
   "id": "bb5cd652",
   "metadata": {},
   "source": [
    "## Question-6"
   ]
  },
  {
   "cell_type": "code",
   "execution_count": 111,
   "id": "2f35f4ec",
   "metadata": {},
   "outputs": [],
   "source": [
    "from sortedcontainers import SortedSet\n",
    "from math import sqrt\n",
    "## https://stackoverflow.com/questions/8875706/heapq-with-custom-compare-predicate/8875823\n",
    "# Priority Queue with custom comparator\n",
    "class MyPriorityQueue(object):\n",
    "    # compare1 is the function that will return f(n)-> sort in ascending order of f(n)\n",
    "    # compare2 is the function that will return g(n)-> sort in ascending order of g(n) if f(n) is same\n",
    "    def __init__(self, current_heuristic, target):\n",
    "        self.current_heuristic = current_heuristic\n",
    "#         self._data = []\n",
    "        self._data = SortedSet()\n",
    "        self.target = target\n",
    "        self.g = dict()\n",
    "        self.h = dict()\n",
    "    def __len__(self):\n",
    "        return len(self._data)\n",
    "    #### It is required to update g(n) and h(n) before pushing the node into the priority queue\n",
    "    def push(self, item):\n",
    "        node = (self.calculate_priority(item), self.get_heuristic(item), item)\n",
    "        self._data.add(node)\n",
    "#         heapq.heappush(self._data, (self.calculate_priority(item), self.get_heuristic(item), item))\n",
    "    def pop(self):\n",
    "        node = self._data.pop(0)[2]\n",
    "        return node\n",
    "#         return heapq.heappop(self._data)[2]\n",
    "    def manhattan_distance(self, x, y): # Manhattan Distance -> heuristic = |x1-x2| + |y1-y2|\n",
    "        return abs(x[0]-y[0])+abs(x[1]-y[1])\n",
    "    def euclidean_distance(self, x, y): # Euclidean Distance -> heuristic = sqrt( (x1-x2)**2 + (y1-y2)**2 )\n",
    "        return sqrt( (x[0]-x[1])**2 + (y[0]-y[1])**2 )\n",
    "    def chebyshev_distance(self, x, y): # Chebyshev Distance -> heuristic = max(|x1-x2|, |y1-y2|)\n",
    "        return max(abs(x[0]-x[1]), abs(y[0]-y[1]))\n",
    "    def get_heuristic(self, x):  # returns the value of heuristic based on the heuristic function\n",
    "        measure = self.current_heuristic\n",
    "        if measure == 'm': # if h is manhattan\n",
    "            self.h[x] = self.manhattan_distance(x, self.target)\n",
    "        elif measure == 'e': # if h is euclidean\n",
    "            self.h[x] = self.euclidean_distance(x, self.target)\n",
    "        elif measure == 'c': # if c is chebyshev\n",
    "            self.h[x] = self.chebyshev_distance(x, self.target)\n",
    "        return self.h[x]\n",
    "    def calculate_priority(self, x): # calculates priority for each cell - distance from cell to target\n",
    "#         print(\"*******x: \",x)\n",
    "#         print(\"self.g: \",self.g)\n",
    "#         print(\"g: \",self.g[x])\n",
    "        return self.g[x] + self.get_heuristic(x)\n",
    "\n",
    "class GridWorld2:\n",
    "    def __init__(self, grid, start, target, n, m, agent_grid = None ):\n",
    "        self.n = n # denotes the number of rows\n",
    "        self.m = m # denotes the number of columns\n",
    "        self.start = start # denotes the start coordinate of the grid\n",
    "        self.target = target # denotes the target coordinate of the grid\n",
    "        self.trajectory = [] # denotes the trajectory of the agent in the grid\n",
    "        self.grid = grid # denotes the full knowledge of the grid\n",
    "        if agent_grid is None:\n",
    "            self.agent_grid = np.full((n,n),'.')\n",
    "        else:\n",
    "            self.agent_grid = agent_grid\n",
    "        self.sum_num_cells_processed = 0\n",
    "    def a_star(self, source, current_heuristic = 'm'):\n",
    "        dirx = [-1, 1, 0, 0] ## calculates the neighbours of the current node\n",
    "        diry = [0, 0, 1, -1] ## calculates the neighbours of the current node\n",
    "        visited = set() ## contains the nodes that have already been added in priority queue\n",
    "        closed_list = set() ## contains the nodes that have been popped from priority queue\n",
    "        open_list = MyPriorityQueue(current_heuristic, self.target) ## stores the visited nodes and pops it out according to it's priority\n",
    "        planned_path = [] ## Stores the path that the agent has planned according to it's current knowledge\n",
    "        open_list.g[source]=0\n",
    "        open_list.calculate_priority( source)\n",
    "        open_list.push( source) ## This function runs in O(logn)\n",
    "        visited.add(source)#visited[source] = 1\n",
    "        parent = {} ## stores the parent of each node that is visited\n",
    "        parent[source] = None\n",
    "        while(len(open_list)>0):\n",
    "            curr = open_list.pop()\n",
    "            if(curr in closed_list):\n",
    "                continue\n",
    "            self.sum_num_cells_processed = self.sum_num_cells_processed + 1\n",
    "            closed_list.add(curr)\n",
    "            if(curr[0] == self.target[0] and curr[1] == self.target[1]):\n",
    "                break\n",
    "            for i in np.arange(4):\n",
    "                childx = curr[0] + dirx[i]\n",
    "                childy = curr[1] + diry[i]\n",
    "                child = (childx, childy)\n",
    "                if(childx>=0 and childx<self.m and childy>=0 and childy<self.n and (child not in closed_list) and self.agent_grid[childx][childy]!='X'):\n",
    "                    if(child not in visited):\n",
    "                        visited.add(child)\n",
    "                        parent[child] = curr\n",
    "                        open_list.g[child] = open_list.g[curr]+1\n",
    "                        open_list.calculate_priority(child)\n",
    "                        open_list.push(child) #heapq.heappush(open_list, child)\n",
    "                    else:\n",
    "                        if open_list.g[curr]+1<open_list.g[child]:\n",
    "                            parent[child] = curr\n",
    "                            open_list._data.discard(child)\n",
    "                            open_list.g[child] = open_list.g[curr]+1\n",
    "                            open_list.calculate_priority(child)\n",
    "                            open_list.push(child)\n",
    "        if(self.target not in visited):\n",
    "            return []\n",
    "        curr = self.target\n",
    "        while(curr != source):\n",
    "            planned_path.append(curr)\n",
    "            curr = parent[curr]\n",
    "        planned_path.append(source)\n",
    "        return planned_path[::-1]\n",
    "    \n",
    "    def check_planned_path(self, planned_path):\n",
    "        dirx = [-1, 1, 0, 0]\n",
    "        diry = [0, 0, -1, 1]\n",
    "        n = len(planned_path)\n",
    "        traversed_path = []\n",
    "        for i in np.arange(n):\n",
    "            currx = planned_path[i][0]\n",
    "            curry = planned_path[i][1]\n",
    "            if(grid[currx][curry] == 'X'):\n",
    "                break\n",
    "            traversed_path.append((currx,curry))\n",
    "            for i in np.arange(4):\n",
    "                childx = currx + dirx[i]\n",
    "                childy = curry + diry[i]\n",
    "                if(childx>=0 and childx<self.m and childy>=0 and childy<self.n):\n",
    "                    self.agent_grid[childx][childy] = self.grid[childx][childy]\n",
    "        return traversed_path\n",
    "    \n",
    "    ## This is the function that computes the path that repeated a-star traverses\n",
    "    def compute_path(self):\n",
    "        path = []\n",
    "        curr = self.start\n",
    "        while(curr != self.target):\n",
    "            planned_path = self.a_star(curr)\n",
    "            if( len(planned_path) == 0 ):\n",
    "                return []\n",
    "            traversed_path = self.check_planned_path(planned_path)\n",
    "            n = len(traversed_path)\n",
    "            path.append(traversed_path)\n",
    "            if(traversed_path[n-1] == self.target):\n",
    "                break\n",
    "            curr = traversed_path[n-1]\n",
    "        return path"
   ]
  },
  {
   "cell_type": "code",
   "execution_count": null,
   "id": "cf62ce2b",
   "metadata": {},
   "outputs": [],
   "source": []
  },
  {
   "cell_type": "code",
   "execution_count": 120,
   "id": "bd02ba4e",
   "metadata": {
    "scrolled": true
   },
   "outputs": [
    {
     "name": "stderr",
     "output_type": "stream",
     "text": [
      "\r",
      "  0%|                                                                                                                                                                             | 0/31 [00:00<?, ?it/s]"
     ]
    },
    {
     "name": "stdout",
     "output_type": "stream",
     "text": [
      "Completed for p:  0.01\n"
     ]
    },
    {
     "name": "stderr",
     "output_type": "stream",
     "text": [
      "\r",
      "  6%|██████████▋                                                                                                                                                          | 2/31 [00:19<04:42,  9.74s/it]"
     ]
    },
    {
     "name": "stdout",
     "output_type": "stream",
     "text": [
      "Completed for p:  0.02\n"
     ]
    },
    {
     "name": "stderr",
     "output_type": "stream",
     "text": [
      "\r",
      " 10%|███████████████▉                                                                                                                                                     | 3/31 [00:43<07:24, 15.87s/it]"
     ]
    },
    {
     "name": "stdout",
     "output_type": "stream",
     "text": [
      "Completed for p:  0.03\n"
     ]
    },
    {
     "name": "stderr",
     "output_type": "stream",
     "text": [
      "\r",
      " 13%|█████████████████████▎                                                                                                                                               | 4/31 [01:13<09:22, 20.84s/it]"
     ]
    },
    {
     "name": "stdout",
     "output_type": "stream",
     "text": [
      "Completed for p:  0.04\n"
     ]
    },
    {
     "name": "stderr",
     "output_type": "stream",
     "text": [
      "\r",
      " 16%|██████████████████████████▌                                                                                                                                          | 5/31 [01:48<11:09, 25.77s/it]"
     ]
    },
    {
     "name": "stdout",
     "output_type": "stream",
     "text": [
      "Completed for p:  0.05\n"
     ]
    },
    {
     "name": "stderr",
     "output_type": "stream",
     "text": [
      "\r",
      " 19%|███████████████████████████████▉                                                                                                                                     | 6/31 [02:27<12:35, 30.23s/it]"
     ]
    },
    {
     "name": "stdout",
     "output_type": "stream",
     "text": [
      "Completed for p:  0.06\n"
     ]
    },
    {
     "name": "stderr",
     "output_type": "stream",
     "text": [
      "\r",
      " 23%|█████████████████████████████████████▎                                                                                                                               | 7/31 [03:11<13:49, 34.56s/it]"
     ]
    },
    {
     "name": "stdout",
     "output_type": "stream",
     "text": [
      "Completed for p:  0.07\n"
     ]
    },
    {
     "name": "stderr",
     "output_type": "stream",
     "text": [
      "\r",
      " 26%|██████████████████████████████████████████▌                                                                                                                          | 8/31 [04:00<15:02, 39.22s/it]"
     ]
    },
    {
     "name": "stdout",
     "output_type": "stream",
     "text": [
      "Completed for p:  0.08\n"
     ]
    },
    {
     "name": "stderr",
     "output_type": "stream",
     "text": [
      "\r",
      " 29%|███████████████████████████████████████████████▉                                                                                                                     | 9/31 [04:54<16:07, 43.97s/it]"
     ]
    },
    {
     "name": "stdout",
     "output_type": "stream",
     "text": [
      "Completed for p:  0.09\n"
     ]
    },
    {
     "name": "stderr",
     "output_type": "stream",
     "text": [
      "\r",
      " 32%|████████████████████████████████████████████████████▉                                                                                                               | 10/31 [05:53<16:59, 48.54s/it]"
     ]
    },
    {
     "name": "stdout",
     "output_type": "stream",
     "text": [
      "Completed for p:  0.1\n"
     ]
    },
    {
     "name": "stderr",
     "output_type": "stream",
     "text": [
      "\r",
      " 35%|██████████████████████████████████████████████████████████▏                                                                                                         | 11/31 [06:56<17:39, 52.99s/it]"
     ]
    },
    {
     "name": "stdout",
     "output_type": "stream",
     "text": [
      "Completed for p:  0.11\n"
     ]
    },
    {
     "name": "stderr",
     "output_type": "stream",
     "text": [
      "\r",
      " 39%|███████████████████████████████████████████████████████████████▍                                                                                                    | 12/31 [08:06<18:19, 57.89s/it]"
     ]
    },
    {
     "name": "stdout",
     "output_type": "stream",
     "text": [
      "Completed for p:  0.12\n"
     ]
    },
    {
     "name": "stderr",
     "output_type": "stream",
     "text": [
      "\r",
      " 42%|████████████████████████████████████████████████████████████████████▊                                                                                               | 13/31 [09:18<18:42, 62.38s/it]"
     ]
    },
    {
     "name": "stdout",
     "output_type": "stream",
     "text": [
      "Completed for p:  0.13\n"
     ]
    },
    {
     "name": "stderr",
     "output_type": "stream",
     "text": [
      "\r",
      " 45%|██████████████████████████████████████████████████████████████████████████                                                                                          | 14/31 [10:35<18:52, 66.61s/it]"
     ]
    },
    {
     "name": "stdout",
     "output_type": "stream",
     "text": [
      "Completed for p:  0.14\n"
     ]
    },
    {
     "name": "stderr",
     "output_type": "stream",
     "text": [
      "\r",
      " 48%|███████████████████████████████████████████████████████████████████████████████▎                                                                                    | 15/31 [11:55<18:53, 70.85s/it]"
     ]
    },
    {
     "name": "stdout",
     "output_type": "stream",
     "text": [
      "Completed for p:  0.15\n"
     ]
    },
    {
     "name": "stderr",
     "output_type": "stream",
     "text": [
      "\r",
      " 52%|████████████████████████████████████████████████████████████████████████████████████▋                                                                               | 16/31 [13:22<18:52, 75.51s/it]"
     ]
    },
    {
     "name": "stdout",
     "output_type": "stream",
     "text": [
      "Completed for p:  0.16\n"
     ]
    },
    {
     "name": "stderr",
     "output_type": "stream",
     "text": [
      "\r",
      " 55%|█████████████████████████████████████████████████████████████████████████████████████████▉                                                                          | 17/31 [14:54<18:46, 80.48s/it]"
     ]
    },
    {
     "name": "stdout",
     "output_type": "stream",
     "text": [
      "Completed for p:  0.17\n"
     ]
    },
    {
     "name": "stderr",
     "output_type": "stream",
     "text": [
      "\r",
      " 58%|██████████████████████████████████████████████████████████████████████████████████████████████▋                                                                    | 18/31 [21:38<38:31, 177.84s/it]"
     ]
    },
    {
     "name": "stdout",
     "output_type": "stream",
     "text": [
      "Completed for p:  0.18\n"
     ]
    },
    {
     "name": "stderr",
     "output_type": "stream",
     "text": [
      "\r",
      " 61%|███████████████████████████████████████████████████████████████████████████████████████████████████▉                                                               | 19/31 [23:21<31:04, 155.41s/it]"
     ]
    },
    {
     "name": "stdout",
     "output_type": "stream",
     "text": [
      "Completed for p:  0.19\n"
     ]
    },
    {
     "name": "stderr",
     "output_type": "stream",
     "text": [
      "\r",
      " 65%|█████████████████████████████████████████████████████████████████████████████████████████████████████████▏                                                         | 20/31 [25:09<25:52, 141.16s/it]"
     ]
    },
    {
     "name": "stdout",
     "output_type": "stream",
     "text": [
      "Completed for p:  0.2\n"
     ]
    },
    {
     "name": "stderr",
     "output_type": "stream",
     "text": [
      "\r",
      " 68%|███████████████████████████████████████████████████████████████████████████████████████████████████████████                                                   | 21/31 [1:17:43<2:54:13, 1045.38s/it]"
     ]
    },
    {
     "name": "stdout",
     "output_type": "stream",
     "text": [
      "Completed for p:  0.21\n"
     ]
    },
    {
     "name": "stderr",
     "output_type": "stream",
     "text": [
      "\r",
      " 71%|████████████████████████████████████████████████████████████████████████████████████████████████████████████████▊                                              | 22/31 [1:19:43<1:55:07, 767.49s/it]"
     ]
    },
    {
     "name": "stdout",
     "output_type": "stream",
     "text": [
      "Completed for p:  0.22\n"
     ]
    },
    {
     "name": "stderr",
     "output_type": "stream",
     "text": [
      "\r",
      " 74%|█████████████████████████████████████████████████████████████████████████████████████████████████████████████████████▉                                         | 23/31 [1:21:50<1:16:43, 575.39s/it]"
     ]
    },
    {
     "name": "stdout",
     "output_type": "stream",
     "text": [
      "Completed for p:  0.23\n"
     ]
    },
    {
     "name": "stderr",
     "output_type": "stream",
     "text": [
      "\r",
      " 77%|███████████████████████████████████████████████████████████████████████████████████████████████████████████████████████████                                    | 24/31 [1:42:11<1:29:44, 769.17s/it]"
     ]
    },
    {
     "name": "stdout",
     "output_type": "stream",
     "text": [
      "Completed for p:  0.24\n"
     ]
    },
    {
     "name": "stderr",
     "output_type": "stream",
     "text": [
      "\r",
      " 81%|█████████████████████████████████████████████████████████████████████████████████████████████████████████████████████████████████▊                               | 25/31 [1:43:58<57:02, 570.45s/it]"
     ]
    },
    {
     "name": "stdout",
     "output_type": "stream",
     "text": [
      "Completed for p:  0.25\n"
     ]
    },
    {
     "name": "stderr",
     "output_type": "stream",
     "text": [
      "\r",
      " 84%|███████████████████████████████████████████████████████████████████████████████████████████████████████████████████████████████████████                          | 26/31 [1:45:51<36:05, 433.09s/it]"
     ]
    },
    {
     "name": "stdout",
     "output_type": "stream",
     "text": [
      "Completed for p:  0.26\n"
     ]
    },
    {
     "name": "stderr",
     "output_type": "stream",
     "text": [
      "\r",
      " 87%|████████████████████████████████████████████████████████████████████████████████████████████████████████████████████████████████████████████▏                    | 27/31 [1:47:49<22:34, 338.73s/it]"
     ]
    },
    {
     "name": "stdout",
     "output_type": "stream",
     "text": [
      "Completed for p:  0.27\n"
     ]
    },
    {
     "name": "stderr",
     "output_type": "stream",
     "text": [
      "\r",
      " 90%|█████████████████████████████████████████████████████████████████████████████████████████████████████████████████████████████████████████████████▍               | 28/31 [1:49:55<13:44, 274.99s/it]"
     ]
    },
    {
     "name": "stdout",
     "output_type": "stream",
     "text": [
      "Completed for p:  0.28\n"
     ]
    },
    {
     "name": "stderr",
     "output_type": "stream",
     "text": [
      "\r",
      " 94%|██████████████████████████████████████████████████████████████████████████████████████████████████████████████████████████████████████████████████████▌          | 29/31 [1:52:12<07:46, 233.35s/it]"
     ]
    },
    {
     "name": "stdout",
     "output_type": "stream",
     "text": [
      "Completed for p:  0.29\n"
     ]
    },
    {
     "name": "stderr",
     "output_type": "stream",
     "text": [
      "\r",
      " 97%|██████████████████████████████████████████████████████████████████████████████████████████████████████████████████████████████████████████████████████████▊     | 30/31 [4:11:30<44:30, 2670.80s/it]"
     ]
    },
    {
     "name": "stdout",
     "output_type": "stream",
     "text": [
      "Completed for p:  0.3\n"
     ]
    },
    {
     "name": "stderr",
     "output_type": "stream",
     "text": [
      "100%|█████████████████████████████████████████████████████████████████████████████████████████████████████████████████████████████████████████████████████████████████| 31/31 [4:14:06<00:00, 491.84s/it]\n"
     ]
    }
   ],
   "source": [
    "# Density vs Average Trajectory Length\n",
    "# Density vs Average (Length of Trajectory / Length of Shortest Path in Final Discovered Gridworld (FDG) )\n",
    "from tqdm import tqdm\n",
    "cnt = 0\n",
    "p_values = np.round(p_values,2)\n",
    "result_x = p_values[1:50]\n",
    "avg_len_trajectory = []\n",
    "avg_traj_sp_fdg = [] # Density vs Average (Length of Trajectory / Length of Shortest Path in Final Discovered Gridworld (FDG) )\n",
    "avg_sp_fdg_sp_kn = [] # Average of shortest path in final discovered grid vs shortest path in known grid\n",
    "avg_num_cells_a_star = []\n",
    "\n",
    "def update_final_discovered_grid(final_discovered_grid, rep_a_trajectory, grid):\n",
    "    m = len(final_discovered_grid)\n",
    "    n = len(final_discovered_grid[0])\n",
    "    dirx = [-1, 1, 0, 0]\n",
    "    diry = [0, 0, -1, 1]\n",
    "    for x in rep_a_trajectory:\n",
    "        for i in np.arange(len(x)):\n",
    "            pos = x[i]\n",
    "            final_discovered_grid[pos[0]][pos[1]] = grid[pos[0]][pos[1]]\n",
    "            for j in np.arange(4):\n",
    "                childx = pos[0] + dirx[j]\n",
    "                childy = pos[1] + diry[j]\n",
    "                if( childx>=0 and childx<m and childy>=0 and childy<n ):\n",
    "                    final_discovered_grid[childx][childy] = grid[childx][childy]\n",
    "    return final_discovered_grid\n",
    "def calculate_path_length(ans_compute_path):\n",
    "    ans = 0\n",
    "    for x in ans_compute_path:\n",
    "        ans = ans + len(x)-1\n",
    "    return ans + 1\n",
    "for p in tqdm(p_values):\n",
    "    if p == 0 or  p== 1:\n",
    "        continue\n",
    "    with open('C:/Users/karan/Desktop/Rutgers Courses/CS520/Project1/Grid_data_3_q6/'+'p'+str(p)+'.txt') as f:\n",
    "        print('Completed for p: ',p)\n",
    "        grid_data = f.readlines()\n",
    "        freq = 0\n",
    "        sum_traj_len = 0\n",
    "        ratio1 = 0 # Length of trajectory / Length of Shortest Path in Final Discovered GridWorld\n",
    "        ratio2 = 0\n",
    "        sum_cell_processed = 0\n",
    "        for s in grid_data:\n",
    "            i = 0\n",
    "            grid = [] ## matrix that contains full knowledge of gridworld\n",
    "            m = 101\n",
    "            n = 101\n",
    "            while(i<m*n):\n",
    "                grid.append(list(s[i:i+n]))\n",
    "                i = i + n\n",
    "            grid = np.array(grid)\n",
    "            gw = GridWorld2(grid,(0,0),(100,100),101,101)\n",
    "            ## Calculating trajectory length in agent's world\n",
    "            rep_a_trajectory = gw.compute_path() # Length1\n",
    "            reap_a_traj_len = calculate_path_length(rep_a_trajectory)\n",
    "            sum_traj_len = sum_traj_len + reap_a_traj_len \n",
    "            ## Calculating trjaectory length in final discovered grid\n",
    "            final_discovered_grid = np.full((101,101),'X')\n",
    "            final_discovered_grid = update_final_discovered_grid(final_discovered_grid, rep_a_trajectory, grid)\n",
    "            gw_final_discovered = GridWorld2(final_discovered, (0,0), (100,100), 101, 101, agent_grid = final_discovered_grid)\n",
    "            shortest_path_final_discovered = gw_final_discovered.a_star((0,0),'m') #Length2\n",
    "            # Graph2 ratio1 = Avg( Length1/Length2 ) vs p\n",
    "            ratio1 = ratio1 + reap_a_traj_len/len(shortest_path_final_discovered)\n",
    "            \n",
    "            #Calculaing shortest path length in Full Known grid\n",
    "            gw_full_known = GridWorld2(grid, (0,0),(100,100), 101, 101, agent_grid = grid)\n",
    "            shortest_path_full_known = gw_full_known.a_star((0,0),'m')# Length3\n",
    "            # Graph3 -> ratio2 = Avg(Length2/Length3) vs p\n",
    "            if(len(shortest_path_full_known)==0):\n",
    "                print(grid)\n",
    "            ratio2 = ratio2 + len(shortest_path_final_discovered)/len(shortest_path_full_known)\n",
    "            #Graph 4 -> p vs Avg cell processed\n",
    "            sum_cell_processed = sum_cell_processed + gw.sum_num_cells_processed\n",
    "        avg_len_trajectory.append(sum_traj_len/1000)\n",
    "        avg_traj_sp_fdg.append(ratio1/1000)\n",
    "        avg_sp_fdg_sp_kn.append(ratio2/1000)\n",
    "        avg_num_cells_a_star.append(sum_cell_processed/1000)\n",
    "        \n",
    "            "
   ]
  },
  {
   "cell_type": "code",
   "execution_count": 94,
   "id": "aeedd83c",
   "metadata": {},
   "outputs": [
    {
     "data": {
      "text/plain": [
       "[<matplotlib.lines.Line2D at 0x1d2ec5f59a0>]"
      ]
     },
     "execution_count": 94,
     "metadata": {},
     "output_type": "execute_result"
    },
    {
     "data": {
      "image/png": "[encoded data removed]",
      "text/plain": [
       "<Figure size 432x288 with 1 Axes>"
      ]
     },
     "metadata": {
      "needs_background": "light"
     },
     "output_type": "display_data"
    }
   ],
   "source": [
    "result_x = "
   ]
  },
  {
   "cell_type": "code",
   "execution_count": 125,
   "id": "8cd1dfba",
   "metadata": {},
   "outputs": [],
   "source": [
    "# import pickle\n",
    "# with open('Q_6_avg_len_trajectory.pkl','wb') as f:\n",
    "#     pickle.dump(avg_len_trajectory, f)\n",
    "# with open('Q_6_avg_traj_sp_fdg.pkl','wb') as f:\n",
    "#     pickle.dump(avg_traj_sp_fdg, f)\n",
    "# with open('Q_6_avg_sp_fdg_sp_kn.pkl','wb') as f:\n",
    "#     pickle.dump(avg_sp_fdg_sp_kn, f)\n",
    "# with open('Q_6_avg_num_cells_a_star.pkl','wb') as f:\n",
    "#     pickle.dump(avg_num_cells_a_star, f)\n"
   ]
  },
  {
   "cell_type": "code",
   "execution_count": 14,
   "id": "9f788f6c",
   "metadata": {},
   "outputs": [
    {
     "data": {
      "text/plain": [
       "Text(0, 0.5, 'Average Length of Trajectory')"
      ]
     },
     "execution_count": 14,
     "metadata": {},
     "output_type": "execute_result"
    },
    {
     "data": {
      "image/png": "[encoded data removed]",
      "text/plain": [
       "<Figure size 432x288 with 1 Axes>"
      ]
     },
     "metadata": {
      "needs_background": "light"
     },
     "output_type": "display_data"
    }
   ],
   "source": [
    "import matplotlib.pyplot as plt\n",
    "p_values = np.linspace(0,0.3,31)\n",
    "p_values = np.round(p_values,2)\n",
    "result_x = p_values[1:]\n",
    "with open('Q_6_avg_len_trajectory.pkl', 'rb') as f:\n",
    "       avg_len_trajectory = pickle.load(f)\n",
    "plt.plot(result_x, avg_len_trajectory)\n",
    "plt.xlabel('Density')\n",
    "plt.ylabel('Average Length of Trajectory')\n",
    "# plt.title(' Average Length of Trajectory using A-star algorithm vs Density of blocked cells')"
   ]
  },
  {
   "cell_type": "code",
   "execution_count": null,
   "id": "0792451e",
   "metadata": {},
   "outputs": [],
   "source": []
  },
  {
   "cell_type": "code",
   "execution_count": null,
   "id": "c24891da",
   "metadata": {},
   "outputs": [],
   "source": []
  },
  {
   "cell_type": "code",
   "execution_count": 18,
   "id": "69f649a3",
   "metadata": {},
   "outputs": [
    {
     "data": {
      "text/plain": [
       "Text(0, 0.5, 'Average of Ratio')"
      ]
     },
     "execution_count": 18,
     "metadata": {},
     "output_type": "execute_result"
    },
    {
     "data": {
      "image/png": "[encoded data removed]",
      "text/plain": [
       "<Figure size 432x288 with 1 Axes>"
      ]
     },
     "metadata": {
      "needs_background": "light"
     },
     "output_type": "display_data"
    }
   ],
   "source": [
    "import matplotlib.pyplot as plt\n",
    "with open('Q_6_avg_traj_sp_fdg.pkl', 'rb') as f:\n",
    "       avg_traj_sp_fdg = pickle.load(f)\n",
    "plt.plot(result_x, avg_traj_sp_fdg)\n",
    "plt.xlabel('Density')\n",
    "plt.ylabel('Average of Ratio')\n",
    "# plt.title(' Average of Ratio, Ratio = (Length of Trajectory/Length of Shortest Path in Final Discovered World) vs Density of blocked cells')"
   ]
  },
  {
   "cell_type": "code",
   "execution_count": 122,
   "id": "d0356930",
   "metadata": {},
   "outputs": [
    {
     "data": {
      "text/plain": [
       "Text(0.5, 1.0, ' Average of Ratio, Ratio = (Length of Trajectory/Length of Shortest Path in Final Discovered World) vs Density of blocked cells')"
      ]
     },
     "execution_count": 122,
     "metadata": {},
     "output_type": "execute_result"
    },
    {
     "data": {
      "image/png": "[encoded data removed]",
      "text/plain": [
       "<Figure size 432x288 with 1 Axes>"
      ]
     },
     "metadata": {
      "needs_background": "light"
     },
     "output_type": "display_data"
    }
   ],
   "source": [
    "import matplotlib.pyplot as plt\n",
    "plt.plot(result_x, avg_traj_sp_fdg)\n",
    "plt.xlabel('Density')\n",
    "plt.ylabel('Average of Ratio')\n",
    "plt.title(' Average of Ratio, Ratio = (Length of Trajectory/Length of Shortest Path in Final Discovered World) vs Density of blocked cells')"
   ]
  },
  {
   "cell_type": "code",
   "execution_count": null,
   "id": "817af10e",
   "metadata": {},
   "outputs": [],
   "source": []
  },
  {
   "cell_type": "code",
   "execution_count": null,
   "id": "dd0aa8ea",
   "metadata": {},
   "outputs": [],
   "source": []
  },
  {
   "cell_type": "code",
   "execution_count": 19,
   "id": "b2260d04",
   "metadata": {},
   "outputs": [
    {
     "data": {
      "text/plain": [
       "Text(0, 0.5, 'Average of Ratio')"
      ]
     },
     "execution_count": 19,
     "metadata": {},
     "output_type": "execute_result"
    },
    {
     "data": {
      "image/png": "[encoded data removed]",
      "text/plain": [
       "<Figure size 432x288 with 1 Axes>"
      ]
     },
     "metadata": {
      "needs_background": "light"
     },
     "output_type": "display_data"
    }
   ],
   "source": [
    "import matplotlib.pyplot as plt\n",
    "with open('Q_6_avg_sp_fdg_sp_kn.pkl', 'rb') as f:\n",
    "       avg_sp_fdg_sp_kn = pickle.load(f)\n",
    "plt.plot(result_x, avg_sp_fdg_sp_kn )\n",
    "plt.xlabel('Density')\n",
    "plt.ylabel('Average of Ratio')\n",
    "# plt.title(' Average of Ratio, Ratio = (Length of Shortest Path in Final Discovered World / Length of Shortest Path in Full GridWorld) vs Density of blocked cells)')"
   ]
  },
  {
   "cell_type": "code",
   "execution_count": 123,
   "id": "ca4ffccb",
   "metadata": {},
   "outputs": [
    {
     "data": {
      "text/plain": [
       "Text(0.5, 1.0, ' Average of Ratio, Ratio = (Length of Shortest Path in Final Discovered World / Length of Shortest Path in Full GridWorld) vs Density of blocked cells')"
      ]
     },
     "execution_count": 123,
     "metadata": {},
     "output_type": "execute_result"
    },
    {
     "data": {
      "image/png": "[encoded data removed]",
      "text/plain": [
       "<Figure size 432x288 with 1 Axes>"
      ]
     },
     "metadata": {
      "needs_background": "light"
     },
     "output_type": "display_data"
    }
   ],
   "source": [
    "import matplotlib.pyplot as plt\n",
    "plt.plot(result_x, avg_sp_fdg_sp_kn)\n",
    "plt.xlabel('Density')\n",
    "plt.ylabel('Average of Ratio')\n",
    "plt.title(' Average of Ratio, Ratio = (Length of Shortest Path in Final Discovered World / Length of Shortest Path in Full GridWorld) vs Density of blocked cells')"
   ]
  },
  {
   "cell_type": "code",
   "execution_count": null,
   "id": "8b307e15",
   "metadata": {},
   "outputs": [],
   "source": []
  },
  {
   "cell_type": "code",
   "execution_count": 21,
   "id": "efa421d6",
   "metadata": {},
   "outputs": [
    {
     "data": {
      "text/plain": [
       "Text(0, 0.5, 'Average Number of Cells Processed')"
      ]
     },
     "execution_count": 21,
     "metadata": {},
     "output_type": "execute_result"
    },
    {
     "data": {
      "image/png": "[encoded data removed]",
      "text/plain": [
       "<Figure size 432x288 with 1 Axes>"
      ]
     },
     "metadata": {
      "needs_background": "light"
     },
     "output_type": "display_data"
    }
   ],
   "source": [
    "import matplotlib.pyplot as plt\n",
    "with open('Q_6_avg_num_cells_a_star.pkl', 'rb') as f:\n",
    "       avg_num_cells_a_star = pickle.load(f)\n",
    "plt.plot(result_x, avg_num_cells_a_star )\n",
    "plt.xlabel('Density')\n",
    "plt.ylabel('Average Number of Cells Processed')\n",
    "# plt.title(' Average Number of Cells Processed in A-Star Algorithm')"
   ]
  },
  {
   "cell_type": "code",
   "execution_count": null,
   "id": "91648623",
   "metadata": {},
   "outputs": [],
   "source": []
  },
  {
   "cell_type": "code",
   "execution_count": 124,
   "id": "cbababc8",
   "metadata": {},
   "outputs": [
    {
     "data": {
      "text/plain": [
       "Text(0.5, 1.0, ' Average Number of Cells Processed in A-Star Algorithm')"
      ]
     },
     "execution_count": 124,
     "metadata": {},
     "output_type": "execute_result"
    },
    {
     "data": {
      "image/png": "[encoded data removed]",
      "text/plain": [
       "<Figure size 432x288 with 1 Axes>"
      ]
     },
     "metadata": {
      "needs_background": "light"
     },
     "output_type": "display_data"
    }
   ],
   "source": [
    "import matplotlib.pyplot as plt\n",
    "plt.plot(result_x, avg_num_cells_a_star)\n",
    "plt.xlabel('Density')\n",
    "plt.ylabel('Average Number of Cells Processed')\n",
    "plt.title(' Average Number of Cells Processed in A-Star Algorithm')"
   ]
  },
  {
   "cell_type": "code",
   "execution_count": null,
   "id": "77a5192a",
   "metadata": {},
   "outputs": [],
   "source": []
  },
  {
   "cell_type": "code",
   "execution_count": null,
   "id": "c0336295",
   "metadata": {
    "collapsed": true
   },
   "outputs": [],
   "source": []
  },
  {
   "cell_type": "markdown",
   "id": "4d7b64af",
   "metadata": {},
   "source": [
    "### Question-7 \n",
    "\n",
    "Analyse the same data in Q6, using only one direction in the direction of attempted motion as the field of view. "
   ]
  },
  {
   "cell_type": "code",
   "execution_count": 131,
   "id": "1fe5eb4f",
   "metadata": {},
   "outputs": [],
   "source": [
    "from sortedcontainers import SortedSet\n",
    "from math import sqrt\n",
    "## https://stackoverflow.com/questions/8875706/heapq-with-custom-compare-predicate/8875823\n",
    "# Priority Queue with custom comparator\n",
    "class MyPriorityQueue(object):\n",
    "    # compare1 is the function that will return f(n)-> sort in ascending order of f(n)\n",
    "    # compare2 is the function that will return g(n)-> sort in ascending order of g(n) if f(n) is same\n",
    "    def __init__(self, current_heuristic, target):\n",
    "        self.current_heuristic = current_heuristic\n",
    "#         self._data = []\n",
    "        self._data = SortedSet()\n",
    "        self.target = target\n",
    "        self.g = dict()\n",
    "        self.h = dict()\n",
    "    def __len__(self):\n",
    "        return len(self._data)\n",
    "    #### It is required to update g(n) and h(n) before pushing the node into the priority queue\n",
    "    def push(self, item):\n",
    "        node = (self.calculate_priority(item), self.get_heuristic(item), item)\n",
    "        self._data.add(node)\n",
    "#         heapq.heappush(self._data, (self.calculate_priority(item), self.get_heuristic(item), item))\n",
    "    def pop(self):\n",
    "        node = self._data.pop(0)[2]\n",
    "        return node\n",
    "#         return heapq.heappop(self._data)[2]\n",
    "    def manhattan_distance(self, x, y): # Manhattan Distance -> heuristic = |x1-x2| + |y1-y2|\n",
    "        return abs(x[0]-y[0])+abs(x[1]-y[1])\n",
    "    def euclidean_distance(self, x, y): # Euclidean Distance -> heuristic = sqrt( (x1-x2)**2 + (y1-y2)**2 )\n",
    "        return sqrt( (x[0]-x[1])**2 + (y[0]-y[1])**2 )\n",
    "    def chebyshev_distance(self, x, y): # Chebyshev Distance -> heuristic = max(|x1-x2|, |y1-y2|)\n",
    "        return max(abs(x[0]-x[1]), abs(y[0]-y[1]))\n",
    "    def get_heuristic(self, x):  # returns the value of heuristic based on the heuristic function\n",
    "        measure = self.current_heuristic\n",
    "        if measure == 'm': # if h is manhattan\n",
    "            self.h[x] = self.manhattan_distance(x, self.target)\n",
    "        elif measure == 'e': # if h is euclidean\n",
    "            self.h[x] = self.euclidean_distance(x, self.target)\n",
    "        elif measure == 'c': # if c is chebyshev\n",
    "            self.h[x] = self.chebyshev_distance(x, self.target)\n",
    "        return self.h[x]\n",
    "    def calculate_priority(self, x): # calculates priority for each cell - distance from cell to target\n",
    "#         print(\"*******x: \",x)\n",
    "#         print(\"self.g: \",self.g)\n",
    "#         print(\"g: \",self.g[x])\n",
    "        return self.g[x] + self.get_heuristic(x)\n",
    "\n",
    "class GridWorld3:\n",
    "    def __init__(self, grid, start, target, n, m, agent_grid = None ):\n",
    "        self.n = n # denotes the number of rows\n",
    "        self.m = m # denotes the number of columns\n",
    "        self.start = start # denotes the start coordinate of the grid\n",
    "        self.target = target # denotes the target coordinate of the grid\n",
    "        self.trajectory = [] # denotes the trajectory of the agent in the grid\n",
    "        self.grid = grid # denotes the full knowledge of the grid\n",
    "        if agent_grid is None:\n",
    "            self.agent_grid = np.full((n,n),'.')\n",
    "        else:\n",
    "            self.agent_grid = agent_grid\n",
    "        self.sum_num_cells_processed = 0\n",
    "    def a_star(self, source, current_heuristic = 'm'):\n",
    "        dirx = [-1, 1, 0, 0] ## calculates the neighbours of the current node\n",
    "        diry = [0, 0, 1, -1] ## calculates the neighbours of the current node\n",
    "        visited = set() ## contains the nodes that have already been added in priority queue\n",
    "        closed_list = set() ## contains the nodes that have been popped from priority queue\n",
    "        open_list = MyPriorityQueue(current_heuristic, self.target) ## stores the visited nodes and pops it out according to it's priority\n",
    "        planned_path = [] ## Stores the path that the agent has planned according to it's current knowledge\n",
    "        open_list.g[source]=0\n",
    "        open_list.calculate_priority( source)\n",
    "        open_list.push( source) ## This function runs in O(logn)\n",
    "        visited.add(source)#visited[source] = 1\n",
    "        parent = {} ## stores the parent of each node that is visited\n",
    "        parent[source] = None\n",
    "        while(len(open_list)>0):\n",
    "            curr = open_list.pop()\n",
    "            if(curr in closed_list):\n",
    "                continue\n",
    "            self.sum_num_cells_processed = self.sum_num_cells_processed + 1\n",
    "            closed_list.add(curr)\n",
    "            if(curr[0] == self.target[0] and curr[1] == self.target[1]):\n",
    "                break\n",
    "            for i in np.arange(4):\n",
    "                childx = curr[0] + dirx[i]\n",
    "                childy = curr[1] + diry[i]\n",
    "                child = (childx, childy)\n",
    "                if(childx>=0 and childx<self.m and childy>=0 and childy<self.n and (child not in closed_list) and self.agent_grid[childx][childy]!='X'):\n",
    "                    if(child not in visited):\n",
    "                        visited.add(child)\n",
    "                        parent[child] = curr\n",
    "                        open_list.g[child] = open_list.g[curr]+1\n",
    "                        open_list.calculate_priority(child)\n",
    "                        open_list.push(child) #heapq.heappush(open_list, child)\n",
    "                    else:\n",
    "                        if open_list.g[curr]+1<open_list.g[child]:\n",
    "                            parent[child] = curr\n",
    "                            open_list._data.discard(child)\n",
    "                            open_list.g[child] = open_list.g[curr]+1\n",
    "                            open_list.calculate_priority(child)\n",
    "                            open_list.push(child)\n",
    "        if(self.target not in visited):\n",
    "            return []\n",
    "        curr = self.target\n",
    "        while(curr != source):\n",
    "            planned_path.append(curr)\n",
    "            curr = parent[curr]\n",
    "        planned_path.append(source)\n",
    "        return planned_path[::-1]\n",
    "    \n",
    "    def check_planned_path(self, planned_path):\n",
    "        dirx = [-1, 1, 0, 0]\n",
    "        diry = [0, 0, -1, 1]\n",
    "        n = len(planned_path)\n",
    "        traversed_path = []\n",
    "        for i in np.arange(n):\n",
    "            currx = planned_path[i][0]\n",
    "            curry = planned_path[i][1]\n",
    "            if(self.grid[currx][curry] == 'X'):\n",
    "                self\n",
    "                break\n",
    "            traversed_path.append((currx,curry))\n",
    "#             for i in np.arange(4):\n",
    "#                 childx = currx + dirx[i]\n",
    "#                 childy = curry + diry[i]\n",
    "#                 if(childx>=0 and childx<self.m and childy>=0 and childy<self.n):\n",
    "#                     self.agent_grid[childx][childy] = self.grid[childx][childy]\n",
    "        return traversed_path\n",
    "    \n",
    "    ## This is the function that computes the path that repeated a-star traverses\n",
    "    def compute_path(self):\n",
    "        path = []\n",
    "        curr = self.start\n",
    "        while(curr != self.target):\n",
    "            planned_path = self.a_star(curr)\n",
    "            if( len(planned_path) == 0 ):\n",
    "                return []\n",
    "            traversed_path = self.check_planned_path(planned_path)\n",
    "            n = len(traversed_path)\n",
    "            path.append(traversed_path)\n",
    "            if(traversed_path[n-1] == self.target):\n",
    "                break\n",
    "            curr = traversed_path[n-1]\n",
    "        return path"
   ]
  },
  {
   "cell_type": "code",
   "execution_count": 134,
   "id": "a72aa279",
   "metadata": {},
   "outputs": [
    {
     "name": "stderr",
     "output_type": "stream",
     "text": [
      "\r",
      "  0%|                                                                                                                                                                             | 0/31 [00:00<?, ?it/s]"
     ]
    },
    {
     "name": "stdout",
     "output_type": "stream",
     "text": [
      "Completed for p:  0.01\n"
     ]
    },
    {
     "name": "stderr",
     "output_type": "stream",
     "text": [
      "  3%|█████▏                                                                                                                                                            | 1/31 [04:16<2:08:21, 256.72s/it]\n"
     ]
    },
    {
     "ename": "KeyboardInterrupt",
     "evalue": "",
     "output_type": "error",
     "traceback": [
      "\u001b[1;31m---------------------------------------------------------------------------\u001b[0m",
      "\u001b[1;31mKeyboardInterrupt\u001b[0m                         Traceback (most recent call last)",
      "\u001b[1;32m<ipython-input-134-5f4cd88cd8f2>\u001b[0m in \u001b[0;36m<module>\u001b[1;34m\u001b[0m\n\u001b[0;32m     52\u001b[0m             \u001b[0mgw\u001b[0m \u001b[1;33m=\u001b[0m \u001b[0mGridWorld3\u001b[0m\u001b[1;33m(\u001b[0m\u001b[0mgrid\u001b[0m\u001b[1;33m,\u001b[0m\u001b[1;33m(\u001b[0m\u001b[1;36m0\u001b[0m\u001b[1;33m,\u001b[0m\u001b[1;36m0\u001b[0m\u001b[1;33m)\u001b[0m\u001b[1;33m,\u001b[0m\u001b[1;33m(\u001b[0m\u001b[1;36m100\u001b[0m\u001b[1;33m,\u001b[0m\u001b[1;36m100\u001b[0m\u001b[1;33m)\u001b[0m\u001b[1;33m,\u001b[0m\u001b[1;36m101\u001b[0m\u001b[1;33m,\u001b[0m\u001b[1;36m101\u001b[0m\u001b[1;33m)\u001b[0m\u001b[1;33m\u001b[0m\u001b[1;33m\u001b[0m\u001b[0m\n\u001b[0;32m     53\u001b[0m             \u001b[1;31m## Calculating trajectory length in agent's world\u001b[0m\u001b[1;33m\u001b[0m\u001b[1;33m\u001b[0m\u001b[1;33m\u001b[0m\u001b[0m\n\u001b[1;32m---> 54\u001b[1;33m             \u001b[0mrep_a_trajectory\u001b[0m \u001b[1;33m=\u001b[0m \u001b[0mgw\u001b[0m\u001b[1;33m.\u001b[0m\u001b[0mcompute_path\u001b[0m\u001b[1;33m(\u001b[0m\u001b[1;33m)\u001b[0m \u001b[1;31m# Length1\u001b[0m\u001b[1;33m\u001b[0m\u001b[1;33m\u001b[0m\u001b[0m\n\u001b[0m\u001b[0;32m     55\u001b[0m             \u001b[0mreap_a_traj_len\u001b[0m \u001b[1;33m=\u001b[0m \u001b[0mcalculate_path_length\u001b[0m\u001b[1;33m(\u001b[0m\u001b[0mrep_a_trajectory\u001b[0m\u001b[1;33m)\u001b[0m\u001b[1;33m\u001b[0m\u001b[1;33m\u001b[0m\u001b[0m\n\u001b[0;32m     56\u001b[0m             \u001b[0msum_traj_len\u001b[0m \u001b[1;33m=\u001b[0m \u001b[0msum_traj_len\u001b[0m \u001b[1;33m+\u001b[0m \u001b[0mreap_a_traj_len\u001b[0m\u001b[1;33m\u001b[0m\u001b[1;33m\u001b[0m\u001b[0m\n",
      "\u001b[1;32m<ipython-input-131-b426c0b8c146>\u001b[0m in \u001b[0;36mcompute_path\u001b[1;34m(self)\u001b[0m\n\u001b[0;32m    129\u001b[0m         \u001b[0mcurr\u001b[0m \u001b[1;33m=\u001b[0m \u001b[0mself\u001b[0m\u001b[1;33m.\u001b[0m\u001b[0mstart\u001b[0m\u001b[1;33m\u001b[0m\u001b[1;33m\u001b[0m\u001b[0m\n\u001b[0;32m    130\u001b[0m         \u001b[1;32mwhile\u001b[0m\u001b[1;33m(\u001b[0m\u001b[0mcurr\u001b[0m \u001b[1;33m!=\u001b[0m \u001b[0mself\u001b[0m\u001b[1;33m.\u001b[0m\u001b[0mtarget\u001b[0m\u001b[1;33m)\u001b[0m\u001b[1;33m:\u001b[0m\u001b[1;33m\u001b[0m\u001b[1;33m\u001b[0m\u001b[0m\n\u001b[1;32m--> 131\u001b[1;33m             \u001b[0mplanned_path\u001b[0m \u001b[1;33m=\u001b[0m \u001b[0mself\u001b[0m\u001b[1;33m.\u001b[0m\u001b[0ma_star\u001b[0m\u001b[1;33m(\u001b[0m\u001b[0mcurr\u001b[0m\u001b[1;33m)\u001b[0m\u001b[1;33m\u001b[0m\u001b[1;33m\u001b[0m\u001b[0m\n\u001b[0m\u001b[0;32m    132\u001b[0m             \u001b[1;32mif\u001b[0m\u001b[1;33m(\u001b[0m \u001b[0mlen\u001b[0m\u001b[1;33m(\u001b[0m\u001b[0mplanned_path\u001b[0m\u001b[1;33m)\u001b[0m \u001b[1;33m==\u001b[0m \u001b[1;36m0\u001b[0m \u001b[1;33m)\u001b[0m\u001b[1;33m:\u001b[0m\u001b[1;33m\u001b[0m\u001b[1;33m\u001b[0m\u001b[0m\n\u001b[0;32m    133\u001b[0m                 \u001b[1;32mreturn\u001b[0m \u001b[1;33m[\u001b[0m\u001b[1;33m]\u001b[0m\u001b[1;33m\u001b[0m\u001b[1;33m\u001b[0m\u001b[0m\n",
      "\u001b[1;32m<ipython-input-131-b426c0b8c146>\u001b[0m in \u001b[0;36ma_star\u001b[1;34m(self, source, current_heuristic)\u001b[0m\n\u001b[0;32m     79\u001b[0m             \u001b[1;32mif\u001b[0m\u001b[1;33m(\u001b[0m\u001b[0mcurr\u001b[0m\u001b[1;33m[\u001b[0m\u001b[1;36m0\u001b[0m\u001b[1;33m]\u001b[0m \u001b[1;33m==\u001b[0m \u001b[0mself\u001b[0m\u001b[1;33m.\u001b[0m\u001b[0mtarget\u001b[0m\u001b[1;33m[\u001b[0m\u001b[1;36m0\u001b[0m\u001b[1;33m]\u001b[0m \u001b[1;32mand\u001b[0m \u001b[0mcurr\u001b[0m\u001b[1;33m[\u001b[0m\u001b[1;36m1\u001b[0m\u001b[1;33m]\u001b[0m \u001b[1;33m==\u001b[0m \u001b[0mself\u001b[0m\u001b[1;33m.\u001b[0m\u001b[0mtarget\u001b[0m\u001b[1;33m[\u001b[0m\u001b[1;36m1\u001b[0m\u001b[1;33m]\u001b[0m\u001b[1;33m)\u001b[0m\u001b[1;33m:\u001b[0m\u001b[1;33m\u001b[0m\u001b[1;33m\u001b[0m\u001b[0m\n\u001b[0;32m     80\u001b[0m                 \u001b[1;32mbreak\u001b[0m\u001b[1;33m\u001b[0m\u001b[1;33m\u001b[0m\u001b[0m\n\u001b[1;32m---> 81\u001b[1;33m             \u001b[1;32mfor\u001b[0m \u001b[0mi\u001b[0m \u001b[1;32min\u001b[0m \u001b[0mnp\u001b[0m\u001b[1;33m.\u001b[0m\u001b[0marange\u001b[0m\u001b[1;33m(\u001b[0m\u001b[1;36m4\u001b[0m\u001b[1;33m)\u001b[0m\u001b[1;33m:\u001b[0m\u001b[1;33m\u001b[0m\u001b[1;33m\u001b[0m\u001b[0m\n\u001b[0m\u001b[0;32m     82\u001b[0m                 \u001b[0mchildx\u001b[0m \u001b[1;33m=\u001b[0m \u001b[0mcurr\u001b[0m\u001b[1;33m[\u001b[0m\u001b[1;36m0\u001b[0m\u001b[1;33m]\u001b[0m \u001b[1;33m+\u001b[0m \u001b[0mdirx\u001b[0m\u001b[1;33m[\u001b[0m\u001b[0mi\u001b[0m\u001b[1;33m]\u001b[0m\u001b[1;33m\u001b[0m\u001b[1;33m\u001b[0m\u001b[0m\n\u001b[0;32m     83\u001b[0m                 \u001b[0mchildy\u001b[0m \u001b[1;33m=\u001b[0m \u001b[0mcurr\u001b[0m\u001b[1;33m[\u001b[0m\u001b[1;36m1\u001b[0m\u001b[1;33m]\u001b[0m \u001b[1;33m+\u001b[0m \u001b[0mdiry\u001b[0m\u001b[1;33m[\u001b[0m\u001b[0mi\u001b[0m\u001b[1;33m]\u001b[0m\u001b[1;33m\u001b[0m\u001b[1;33m\u001b[0m\u001b[0m\n",
      "\u001b[1;31mKeyboardInterrupt\u001b[0m: "
     ]
    }
   ],
   "source": [
    "# Density vs Average Trajectory Length\n",
    "# Density vs Average (Length of Trajectory / Length of Shortest Path in Final Discovered Gridworld (FDG) )\n",
    "from tqdm import tqdm\n",
    "cnt = 0\n",
    "p_values = np.round(p_values,2)\n",
    "result_x = p_values[1:50]\n",
    "avg_len_trajectory = []\n",
    "avg_traj_sp_fdg = [] # Density vs Average (Length of Trajectory / Length of Shortest Path in Final Discovered Gridworld (FDG) )\n",
    "avg_sp_fdg_sp_kn = [] # Average of shortest path in final discovered grid vs shortest path in known grid\n",
    "avg_num_cells_a_star = []\n",
    "\n",
    "def update_final_discovered_grid(final_discovered_grid, rep_a_trajectory, grid):\n",
    "    m = len(final_discovered_grid)\n",
    "    n = len(final_discovered_grid[0])\n",
    "    dirx = [-1, 1, 0, 0]\n",
    "    diry = [0, 0, -1, 1]\n",
    "    for x in rep_a_trajectory:\n",
    "        for i in np.arange(len(x)):\n",
    "            pos = x[i]\n",
    "            final_discovered_grid[pos[0]][pos[1]] = grid[pos[0]][pos[1]]\n",
    "#             for j in np.arange(4):\n",
    "#                 childx = pos[0] + dirx[j]\n",
    "#                 childy = pos[1] + diry[j]\n",
    "#                 if( childx>=0 and childx<m and childy>=0 and childy<n ):\n",
    "#                     final_discovered_grid[childx][childy] = grid[childx][childy]\n",
    "    return final_discovered_grid\n",
    "def calculate_path_length(ans_compute_path):\n",
    "    ans = 0\n",
    "    for x in ans_compute_path:\n",
    "        ans = ans + len(x)-1\n",
    "    return ans + 1\n",
    "for p in tqdm(p_values):\n",
    "    if p == 0 or  p== 1:\n",
    "        continue\n",
    "    with open('C:/Users/karan/Desktop/Rutgers Courses/CS520/Project1/Grid_data_3_q6/'+'p'+str(p)+'.txt') as f:\n",
    "        print('Completed for p: ',p)\n",
    "        grid_data = f.readlines()\n",
    "        freq = 0\n",
    "        sum_traj_len = 0\n",
    "        ratio1 = 0 # Length of trajectory / Length of Shortest Path in Final Discovered GridWorld\n",
    "        ratio2 = 0\n",
    "        sum_cell_processed = 0\n",
    "        for s in grid_data:\n",
    "            i = 0\n",
    "            grid = [] ## matrix that contains full knowledge of gridworld\n",
    "            m = 101\n",
    "            n = 101\n",
    "            while(i<m*n):\n",
    "                grid.append(list(s[i:i+n]))\n",
    "                i = i + n\n",
    "            grid = np.array(grid)\n",
    "            gw = GridWorld3(grid,(0,0),(100,100),101,101)\n",
    "            ## Calculating trajectory length in agent's world\n",
    "            rep_a_trajectory = gw.compute_path() # Length1\n",
    "            reap_a_traj_len = calculate_path_length(rep_a_trajectory)\n",
    "            sum_traj_len = sum_traj_len + reap_a_traj_len \n",
    "            ## Calculating trjaectory length in final discovered grid\n",
    "            final_discovered_grid = np.full((101,101),'X')\n",
    "            final_discovered_grid = update_final_discovered_grid(final_discovered_grid, rep_a_trajectory, grid)\n",
    "            gw_final_discovered = GridWorld3(final_discovered, (0,0), (100,100), 101, 101, agent_grid = final_discovered_grid)\n",
    "            shortest_path_final_discovered = gw_final_discovered.a_star((0,0),'m') #Length2\n",
    "            # Graph2 ratio1 = Avg( Length1/Length2 ) vs p\n",
    "            ratio1 = ratio1 + reap_a_traj_len/len(shortest_path_final_discovered)\n",
    "            \n",
    "            #Calculaing shortest path length in Full Known grid\n",
    "            gw_full_known = GridWorld3(grid, (0,0),(100,100), 101, 101, agent_grid = grid)\n",
    "            shortest_path_full_known = gw_full_known.a_star((0,0),'m')# Length3\n",
    "            # Graph3 -> ratio2 = Avg(Length2/Length3) vs p\n",
    "            if(len(shortest_path_full_known)==0):\n",
    "                print(grid)\n",
    "            ratio2 = ratio2 + len(shortest_path_final_discovered)/len(shortest_path_full_known)\n",
    "            #Graph 4 -> p vs Avg cell processed\n",
    "            sum_cell_processed = sum_cell_processed + gw.sum_num_cells_processed\n",
    "        avg_len_trajectory.append(sum_traj_len/1000)\n",
    "        avg_traj_sp_fdg.append(ratio1/1000)\n",
    "        avg_sp_fdg_sp_kn.append(ratio2/1000)\n",
    "        avg_num_cells_a_star.append(sum_cell_processed/1000)"
   ]
  },
  {
   "cell_type": "code",
   "execution_count": null,
   "id": "e3ce9850",
   "metadata": {},
   "outputs": [],
   "source": []
  },
  {
   "cell_type": "code",
   "execution_count": null,
   "id": "d95ab823",
   "metadata": {},
   "outputs": [],
   "source": []
  },
  {
   "cell_type": "code",
   "execution_count": null,
   "id": "9c305e54",
   "metadata": {},
   "outputs": [],
   "source": []
  },
  {
   "cell_type": "markdown",
   "id": "a5c23303",
   "metadata": {},
   "source": [
    "## Weighted A-star algorithm\n",
    "## Question-9\n",
    "Heuristics - A-star can speed up using inadmissible heuristic or combination of heuristic"
   ]
  },
  {
   "cell_type": "code",
   "execution_count": null,
   "id": "fe95aae3",
   "metadata": {},
   "outputs": [],
   "source": []
  },
  {
   "cell_type": "code",
   "execution_count": 129,
   "id": "eccdf011",
   "metadata": {},
   "outputs": [],
   "source": [
    "from sortedcontainers import SortedSet\n",
    "from math import sqrt\n",
    "## https://stackoverflow.com/questions/8875706/heapq-with-custom-compare-predicate/8875823\n",
    "# Priority Queue with custom comparator\n",
    "class MyPriorityQueue(object):\n",
    "    # compare1 is the function that will return f(n)-> sort in ascending order of f(n)\n",
    "    # compare2 is the function that will return g(n)-> sort in ascending order of g(n) if f(n) is same\n",
    "    def __init__(self, current_heuristic, target, weight = 1):\n",
    "        self.current_heuristic = current_heuristic\n",
    "        self._data = SortedSet()\n",
    "        self.target = target\n",
    "        self.g = dict()\n",
    "        self.h = dict()\n",
    "        self.weight = weight\n",
    "    def __len__(self):\n",
    "        return len(self._data)\n",
    "    #### It is required to update g(n) and h(n) before pushing the node into the priority queue\n",
    "    def push(self, item):\n",
    "        node = (self.calculate_priority(item), self.get_heuristic(item), item)\n",
    "        self._data.add(node)\n",
    "#         heapq.heappush(self._data, (self.calculate_priority(item), self.get_heuristic(item), item))\n",
    "    def pop(self):\n",
    "        node = self._data.pop(0)[2]\n",
    "        return node\n",
    "#         return heapq.heappop(self._data)[2]\n",
    "    def manhattan_distance(self, x, y): # Manhattan Distance -> heuristic = |x1-x2| + |y1-y2|\n",
    "        return abs(x[0]-y[0])+abs(x[1]-y[1])\n",
    "    def euclidean_distance(self, x, y): # Euclidean Distance -> heuristic = sqrt( (x1-x2)**2 + (y1-y2)**2 )\n",
    "        return sqrt( (x[0]-x[1])**2 + (y[0]-y[1])**2 )\n",
    "    def chebyshev_distance(self, x, y): # Chebyshev Distance -> heuristic = max(|x1-x2|, |y1-y2|)\n",
    "        return max(abs(x[0]-x[1]), abs(y[0]-y[1]))\n",
    "    def get_heuristic(self, x):  # returns the value of heuristic based on the heuristic function\n",
    "        measure = self.current_heuristic\n",
    "        if measure == 'm': # if h is manhattan\n",
    "            self.h[x] = self.manhattan_distance(x, self.target)\n",
    "        elif measure == 'e': # if h is euclidean\n",
    "            self.h[x] = self.euclidean_distance(x, self.target)\n",
    "        elif measure == 'c': # if c is chebyshev\n",
    "            self.h[x] = self.chebyshev_distance(x, self.target)\n",
    "        return self.h[x]\n",
    "    def calculate_priority(self, x): # calculates priority for each cell - distance from cell to target\n",
    "#         print(\"*******x: \",x)\n",
    "#         print(\"self.g: \",self.g)\n",
    "#         print(\"g: \",self.g[x])\n",
    "        return self.g[x] + self.weight*self.get_heuristic(x)\n",
    "\n",
    "class GridWorld4:\n",
    "    def __init__(self, grid, start, target, n, m, agent_grid = None, weight = 1 ):\n",
    "        self.n = n # denotes the number of rows\n",
    "        self.m = m # denotes the number of columns\n",
    "        self.start = start # denotes the start coordinate of the grid\n",
    "        self.target = target # denotes the target coordinate of the grid\n",
    "        self.trajectory = [] # denotes the trajectory of the agent in the grid\n",
    "        self.grid = grid # denotes the full knowledge of the grid\n",
    "        if agent_grid is None:\n",
    "            self.agent_grid = np.full((n,n),'.')\n",
    "        else:\n",
    "            self.agent_grid = agent_grid\n",
    "        self.sum_num_cells_processed = 0\n",
    "        self.weight = weight\n",
    "    def a_star(self, source, current_heuristic = 'm'):\n",
    "        dirx = [-1, 1, 0, 0] ## calculates the neighbours of the current node\n",
    "        diry = [0, 0, 1, -1] ## calculates the neighbours of the current node\n",
    "        visited = set() ## contains the nodes that have already been added in priority queue\n",
    "        closed_list = set() ## contains the nodes that have been popped from priority queue\n",
    "        open_list = MyPriorityQueue(current_heuristic, self.target, weight = self.weight) ## stores the visited nodes and pops it out according to it's priority\n",
    "        planned_path = [] ## Stores the path that the agent has planned according to it's current knowledge\n",
    "        open_list.g[source]=0\n",
    "        open_list.calculate_priority( source)\n",
    "        open_list.push( source) ## This function runs in O(logn)\n",
    "        visited.add(source)#visited[source] = 1\n",
    "        parent = {} ## stores the parent of each node that is visited\n",
    "        parent[source] = None\n",
    "        while(len(open_list)>0):\n",
    "            curr = open_list.pop()\n",
    "            if(curr in closed_list):\n",
    "                continue\n",
    "            self.sum_num_cells_processed = self.sum_num_cells_processed + 1\n",
    "            closed_list.add(curr)\n",
    "            if(curr[0] == self.target[0] and curr[1] == self.target[1]):\n",
    "                break\n",
    "            for i in np.arange(4):\n",
    "                childx = curr[0] + dirx[i]\n",
    "                childy = curr[1] + diry[i]\n",
    "                child = (childx, childy)\n",
    "                if(childx>=0 and childx<self.m and childy>=0 and childy<self.n and (child not in closed_list) and self.agent_grid[childx][childy]!='X'):\n",
    "                    if(child not in visited):\n",
    "                        visited.add(child)\n",
    "                        parent[child] = curr\n",
    "                        open_list.g[child] = open_list.g[curr]+1\n",
    "                        open_list.calculate_priority(child)\n",
    "                        open_list.push(child) #heapq.heappush(open_list, child)\n",
    "                    else:\n",
    "                        if open_list.g[curr]+1<open_list.g[child]:\n",
    "                            parent[child] = curr\n",
    "                            open_list._data.discard(child)\n",
    "                            open_list.g[child] = open_list.g[curr]+1\n",
    "                            open_list.calculate_priority(child)\n",
    "                            open_list.push(child)\n",
    "        if(self.target not in visited):\n",
    "            return []\n",
    "        curr = self.target\n",
    "        while(curr != source):\n",
    "            planned_path.append(curr)\n",
    "            curr = parent[curr]\n",
    "        planned_path.append(source)\n",
    "        return planned_path[::-1]\n",
    "    \n",
    "    def check_planned_path(self, planned_path):\n",
    "        dirx = [-1, 1, 0, 0]\n",
    "        diry = [0, 0, -1, 1]\n",
    "        n = len(planned_path)\n",
    "        traversed_path = []\n",
    "        for i in np.arange(n):\n",
    "            currx = planned_path[i][0]\n",
    "            curry = planned_path[i][1]\n",
    "            if(grid[currx][curry] == 'X'):\n",
    "                break\n",
    "            traversed_path.append((currx,curry))\n",
    "            for i in np.arange(4):\n",
    "                childx = currx + dirx[i]\n",
    "                childy = curry + diry[i]\n",
    "                if(childx>=0 and childx<self.m and childy>=0 and childy<self.n):\n",
    "                    self.agent_grid[childx][childy] = self.grid[childx][childy]\n",
    "        return traversed_path\n",
    "    \n",
    "    ## This is the function that computes the path that repeated a-star traverses\n",
    "    def compute_path(self):\n",
    "        path = []\n",
    "        curr = self.start\n",
    "        while(curr != self.target):\n",
    "            planned_path = self.a_star(curr)\n",
    "            if( len(planned_path) == 0 ):\n",
    "                return []\n",
    "            traversed_path = self.check_planned_path(planned_path)\n",
    "            n = len(traversed_path)\n",
    "            path.append(traversed_path)\n",
    "            if(traversed_path[n-1] == self.target):\n",
    "                break\n",
    "            curr = traversed_path[n-1]\n",
    "        return path"
   ]
  },
  {
   "cell_type": "code",
   "execution_count": null,
   "id": "415d0363",
   "metadata": {},
   "outputs": [],
   "source": [
    "# Density vs Average Trajectory Length\n",
    "# Density vs Average (Length of Trajectory / Length of Shortest Path in Final Discovered Gridworld (FDG) )\n",
    "cnt = 0\n",
    "p_values = np.round(p_values,2)\n",
    "result_x = p_values[1:50]\n",
    "avg_len_trajectory = []\n",
    "avg_traj_sp_fdg = [] # Density vs Average (Length of Trajectory / Length of Shortest Path in Final Discovered Gridworld (FDG) )\n",
    "avg_sp_fdg_sp_kn = [] # Average of shortest path in final discovered grid vs shortest path in known grid\n",
    "avg_num_cells_a_star = []\n",
    "\n",
    "def update_final_discovered_grid(final_discovered_grid, rep_a_trajectory, grid):\n",
    "    m = len(final_discovered_grid)\n",
    "    n = len(final_discovered_grid[0])\n",
    "    dirx = [-1, 1, 0, 0]\n",
    "    diry = [0, 0, -1, 1]\n",
    "    for x in rep_a_trajectory:\n",
    "        for i in np.arange(len(x)):\n",
    "            pos = x[i]\n",
    "            final_discovered_grid[pos[0]][pos[1]] = grid[pos[0]][pos[1]]\n",
    "            for j in np.arange(4):\n",
    "                childx = pos[0] + dirx[j]\n",
    "                childy = pos[1] + diry[j]\n",
    "                if( childx>=0 and childx<m and childy>=0 and childy<n ):\n",
    "                    final_discovered_grid[childx][childy] = grid[childx][childy]\n",
    "    return final_discovered_grid\n",
    "def calculate_path_length(ans_compute_path):\n",
    "    ans = 0\n",
    "    for x in ans_compute_path:\n",
    "        ans = ans + len(x)-1\n",
    "    return ans + 1\n",
    "for p in tqdm(p_values):\n",
    "    if p == 0 or  p== 1:\n",
    "        continue\n",
    "    with open('C:/Users/karan/Desktop/Rutgers Courses/CS520/Project1/Grid_data_3_q6/'+'p'+str(p)+'.txt') as f:\n",
    "        print('Completed for p: ',p)\n",
    "        grid_data = f.readlines()\n",
    "        freq = 0\n",
    "        sum_traj_len = 0\n",
    "        ratio1 = 0 # Length of trajectory / Length of Shortest Path in Final Discovered GridWorld\n",
    "        ratio2 = 0\n",
    "        sum_cell_processed = 0\n",
    "        for s in grid_data:\n",
    "            i = 0\n",
    "            grid = [] ## matrix that contains full knowledge of gridworld\n",
    "            m = 101\n",
    "            n = 101\n",
    "            while(i<m*n):\n",
    "                grid.append(list(s[i:i+n]))\n",
    "                i = i + n\n",
    "            grid = np.array(grid)\n",
    "            gw = GridWorld3(grid,(0,0),(100,100),101,101)\n",
    "            ## Calculating trajectory length in agent's world\n",
    "            rep_a_trajectory = gw.compute_path() # Length1\n",
    "            reap_a_traj_len = calculate_path_length(rep_a_trajectory)\n",
    "            sum_traj_len = sum_traj_len + reap_a_traj_len \n",
    "            ## Calculating trjaectory length in final discovered grid\n",
    "            final_discovered_grid = np.full((101,101),'X')\n",
    "            final_discovered_grid = update_final_discovered_grid(final_discovered_grid, rep_a_trajectory, grid)\n",
    "            gw_final_discovered = GridWorld3(final_discovered, (0,0), (100,100), 101, 101, agent_grid = final_discovered_grid)\n",
    "            shortest_path_final_discovered = gw_final_discovered.a_star((0,0),'m') #Length2\n",
    "            # Graph2 ratio1 = Avg( Length1/Length2 ) vs p\n",
    "            ratio1 = ratio1 + reap_a_traj_len/len(shortest_path_final_discovered)\n",
    "            \n",
    "            #Calculaing shortest path length in Full Known grid\n",
    "            gw_full_known = GridWorld3(grid, (0,0),(100,100), 101, 101, agent_grid = grid)\n",
    "            shortest_path_full_known = gw_full_known.a_star((0,0),'m')# Length3\n",
    "            # Graph3 -> ratio2 = Avg(Length2/Length3) vs p\n",
    "            if(len(shortest_path_full_known)==0):\n",
    "                print(grid)\n",
    "            ratio2 = ratio2 + len(shortest_path_final_discovered)/len(shortest_path_full_known)\n",
    "            #Graph 4 -> p vs Avg cell processed\n",
    "            sum_cell_processed = sum_cell_processed + gw.sum_num_cells_processed\n",
    "        avg_len_trajectory.append(sum_traj_len/1000)\n",
    "        avg_traj_sp_fdg.append(ratio1/1000)\n",
    "        avg_sp_fdg_sp_kn.append(ratio2/1000)\n",
    "        avg_num_cells_a_star.append(sum_cell_processed/1000)"
   ]
  },
  {
   "cell_type": "code",
   "execution_count": null,
   "id": "8ed2ddf3",
   "metadata": {},
   "outputs": [],
   "source": []
  },
  {
   "cell_type": "code",
   "execution_count": null,
   "id": "da42dde7",
   "metadata": {},
   "outputs": [],
   "source": []
  }
 ],
 "metadata": {
  "kernelspec": {
   "display_name": "Python 3",
   "language": "python",
   "name": "python3"
  },
  "language_info": {
   "codemirror_mode": {
    "name": "ipython",
    "version": 3
   },
   "file_extension": ".py",
   "mimetype": "text/x-python",
   "name": "python",
   "nbconvert_exporter": "python",
   "pygments_lexer": "ipython3",
   "version": "3.8.8"
  }
 },
 "nbformat": 4,
 "nbformat_minor": 5
}
